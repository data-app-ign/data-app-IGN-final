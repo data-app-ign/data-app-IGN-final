{
  "cells": [ 
    {
      "cell_type": "markdown",
      "metadata": {
        "id": "0ZM79hf6tlX0"
      },
      "source": [
        "#Analysis of the development of the gaming industry and patterns in the success of projects"
      ]
    },
    {
      "cell_type": "code",
      "execution_count": null,
      "metadata": {
        "colab": {
          "base_uri": "https://localhost:8080/"
        },
        "id": "Xjvtiotfd5dm",
        "outputId": "8fcd6497-61bc-4520-93c2-30b382c2461b"
      },
      "outputs": [
        {
          "name": "stdout",
          "output_type": "stream",
          "text": [
            "Mounted at /content/drive\n"
          ]
        }
      ],
      "source": [
        "# Mounting google drive\n",
        "from google.colab import drive\n",
        "drive.mount('/content/drive')"
      ]
    },
    {
      "cell_type": "markdown",
      "metadata": {
        "id": "FtijY9AT9NaS"
      },
      "source": [
        "## Importing required libraries"
      ]
    },
    {
      "cell_type": "code",
      "execution_count": null,
      "metadata": {
        "id": "ILe3n_LA9eMa"
      },
      "outputs": [],
      "source": [
        "# %pip install pandas matplotlib statsmodels numpy xgboost scikit-learn\n",
        "\n",
        "import pandas as pd\n",
        "import matplotlib.pyplot as plt\n",
        "import statsmodels.api as sm\n",
        "import numpy as np\n",
        "\n",
        "from xgboost import XGBRegressor\n",
        "\n",
        "from sklearn.tree import DecisionTreeRegressor\n",
        "from sklearn.ensemble import RandomForestRegressor\n",
        "from sklearn.linear_model import LogisticRegression\n",
        "from sklearn.model_selection import train_test_split, cross_val_score\n",
        "from sklearn.preprocessing import OneHotEncoder, MinMaxScaler, StandardScaler\n",
        "from sklearn.metrics import mean_squared_error, accuracy_score, classification_report, roc_auc_score, roc_curve\n",
        "from sklearn.metrics.pairwise import cosine_similarity"
      ]
    },
    {
      "cell_type": "markdown",
      "metadata": {
        "id": "PG4b4xJ5bLZw"
      },
      "source": [
        "---\n",
        "## The content of the work\n",
        "\n",
        "### 1. Description of the work\n",
        "> * 1.1 Statement of the problem\n",
        "> * 1.2 Description of the subject area\n",
        "> * 1.3 Description of the source data\n",
        "### 2. Data Correctness and Analysis\n",
        "2.1 Analysis of the data set for correctness\n",
        "> * 2.1.1 Load the dataset\n",
        "> * 2.1.2 Research of basic statistical indicators\n",
        "> * 2.1.3 Find missing values\n",
        "> * 2.1.4 Checking data types\n",
        "> * 2.1.5 Unique values for each column\n",
        "> * 2.1.6 Abnormal values\n",
        "> * 2.1.7 Checking data distribution\n",
        "> * 2.1.8 Logical check\n",
        "### 3. Defining Research Questions\n",
        "### 4. Pre-release Analysis\n",
        "4.1 Predicting the success of a game based on its genre, platform and year of release\n",
        "4.2 Time of year influence on the success of the game.\n",
        "### 5. Post-release Analysis\n",
        "5.1 Classification of games into \"Editor's Choice\" and \"Not Editor's Choice\" based on their rating and genre.\n",
        "### 6. Increase Customer Satisfaction and Sales\n",
        "6.1 Recommend similar games based on their rating, genre and platform.\n",
        "### Final\n",
        "Conclusion of the Work\n",
        "\n",
        "---\n"
      ]
    },
    {
      "cell_type": "markdown",
      "metadata": {
        "id": "6IjvN7TBd0yi"
      },
      "source": [
        "## 1. Description of the work\n",
        "\n",
        "This project aims to provide a detailed analysis and predictive insights into the gaming industry, targeting game developers, marketers, data analysts, and academic researchers. It's designed to identify trends, patterns, and key factors contributing to the success of gaming projects."
      ]
    },
    {
      "cell_type": "markdown",
      "metadata": {
        "id": "6otySExmtxO_"
      },
      "source": [
        "## 1.1 Statement of the problem\n",
        "The purpose of this project is to analyze the development of the gaming industry, determine patterns in the success of projects both pre-release and post-release. Increasing customer satisfaction and sales is also an integral part of this project."
      ]
    },
    {
      "cell_type": "markdown",
      "metadata": {
        "id": "KU4UlQkfvKQX"
      },
      "source": [
        "## 1.2 Description of the subject area\n",
        "Over the past decades, the gaming industry has grown significantly and has become one of the most profitable industries in entertainment. Games have become not only entertainment, but also a way of learning and socialization. Studying the trends and patterns of this industry will allow you to effectively manage the development and promotion of game projects."
      ]
    },
    {
      "cell_type": "markdown",
      "metadata": {
        "id": "IuXjGXqgr8v5"
      },
      "source": [
        "## 1.3 Description of the source data\n",
        "The following data set was selected as data for analysis: *https://www.kaggle.com/datasets/joebeachcapital/ign-games*\n",
        "\n",
        "**About the dataset**\n",
        "\n",
        "It contains 18625 data points with various features such as release dates on different platforms as well as IGN ratings. All lines are completely filled. There are no zero values.\n",
        "\n",
        "| Feature | Description |\n",
        "|----------------|-------------------------------- ----------------------------------|\n",
        "| score_phrase | Text description of the game rating. |\n",
        "| title | Name of the game. |\n",
        "| url | The URL to the game's review page. |\n",
        "| platform | The platform for which the game was developed. |\n",
        "| score | Numerical rating of the game. |\n",
        "| genre | Game genre. |\n",
        "| editors_choice | Editor's choice (yes/no). |\n",
        "| release_year | Game release year. |\n",
        "| release_month | Game release month. |\n",
        "| release_day | Game release day. |"
      ]
    },
    {
      "cell_type": "markdown",
      "metadata": {
        "id": "g6g0PNlHd0yj"
      },
      "source": [
        "## 2. Data Correctness and Analysis"
      ]
    },
    {
      "cell_type": "markdown",
      "metadata": {
        "id": "-8hODg2xx75N"
      },
      "source": [
        "## 2.1 Analysis of the data set for correctness"
      ]
    },
    {
      "cell_type": "markdown",
      "metadata": {
        "id": "HA57d-JDynYG"
      },
      "source": [
        "* 2.1.1 Load the dataset"
      ]
    },
    {
      "cell_type": "code",
      "execution_count": null,
      "metadata": {
        "colab": {
          "base_uri": "https://localhost:8080/",
          "height": 289
        },
        "id": "kDm8hmI9yq3w",
        "outputId": "6650803a-6b5e-405e-820b-be56ba532fd9"
      },
      "outputs": [
        {
          "data": {
            "text/html": [
              "\n",
              "  <div id=\"df-5d898b26-725b-4680-80e1-f48765dcc71e\" class=\"colab-df-container\">\n",
              "    <div>\n",
              "<style scoped>\n",
              "    .dataframe tbody tr th:only-of-type {\n",
              "        vertical-align: middle;\n",
              "    }\n",
              "\n",
              "    .dataframe tbody tr th {\n",
              "        vertical-align: top;\n",
              "    }\n",
              "\n",
              "    .dataframe thead th {\n",
              "        text-align: right;\n",
              "    }\n",
              "</style>\n",
              "<table border=\"1\" class=\"dataframe\">\n",
              "  <thead>\n",
              "    <tr style=\"text-align: right;\">\n",
              "      <th></th>\n",
              "      <th>Unnamed: 0</th>\n",
              "      <th>score_phrase</th>\n",
              "      <th>title</th>\n",
              "      <th>url</th>\n",
              "      <th>platform</th>\n",
              "      <th>score</th>\n",
              "      <th>genre</th>\n",
              "      <th>editors_choice</th>\n",
              "      <th>release_year</th>\n",
              "      <th>release_month</th>\n",
              "      <th>release_day</th>\n",
              "    </tr>\n",
              "  </thead>\n",
              "  <tbody>\n",
              "    <tr>\n",
              "      <th>0</th>\n",
              "      <td>0</td>\n",
              "      <td>Amazing</td>\n",
              "      <td>LittleBigPlanet PS Vita</td>\n",
              "      <td>/games/littlebigplanet-vita/vita-98907</td>\n",
              "      <td>PlayStation Vita</td>\n",
              "      <td>9.0</td>\n",
              "      <td>Platformer</td>\n",
              "      <td>Y</td>\n",
              "      <td>2012</td>\n",
              "      <td>9</td>\n",
              "      <td>12</td>\n",
              "    </tr>\n",
              "    <tr>\n",
              "      <th>1</th>\n",
              "      <td>1</td>\n",
              "      <td>Amazing</td>\n",
              "      <td>LittleBigPlanet PS Vita -- Marvel Super Hero E...</td>\n",
              "      <td>/games/littlebigplanet-ps-vita-marvel-super-he...</td>\n",
              "      <td>PlayStation Vita</td>\n",
              "      <td>9.0</td>\n",
              "      <td>Platformer</td>\n",
              "      <td>Y</td>\n",
              "      <td>2012</td>\n",
              "      <td>9</td>\n",
              "      <td>12</td>\n",
              "    </tr>\n",
              "    <tr>\n",
              "      <th>2</th>\n",
              "      <td>2</td>\n",
              "      <td>Great</td>\n",
              "      <td>Splice: Tree of Life</td>\n",
              "      <td>/games/splice/ipad-141070</td>\n",
              "      <td>iPad</td>\n",
              "      <td>8.5</td>\n",
              "      <td>Puzzle</td>\n",
              "      <td>N</td>\n",
              "      <td>2012</td>\n",
              "      <td>9</td>\n",
              "      <td>12</td>\n",
              "    </tr>\n",
              "    <tr>\n",
              "      <th>3</th>\n",
              "      <td>3</td>\n",
              "      <td>Great</td>\n",
              "      <td>NHL 13</td>\n",
              "      <td>/games/nhl-13/xbox-360-128182</td>\n",
              "      <td>Xbox 360</td>\n",
              "      <td>8.5</td>\n",
              "      <td>Sports</td>\n",
              "      <td>N</td>\n",
              "      <td>2012</td>\n",
              "      <td>9</td>\n",
              "      <td>11</td>\n",
              "    </tr>\n",
              "    <tr>\n",
              "      <th>4</th>\n",
              "      <td>4</td>\n",
              "      <td>Great</td>\n",
              "      <td>NHL 13</td>\n",
              "      <td>/games/nhl-13/ps3-128181</td>\n",
              "      <td>PlayStation 3</td>\n",
              "      <td>8.5</td>\n",
              "      <td>Sports</td>\n",
              "      <td>N</td>\n",
              "      <td>2012</td>\n",
              "      <td>9</td>\n",
              "      <td>11</td>\n",
              "    </tr>\n",
              "  </tbody>\n",
              "</table>\n",
              "</div>\n",
              "    <div class=\"colab-df-buttons\">\n",
              "\n",
              "  <div class=\"colab-df-container\">\n",
              "    <button class=\"colab-df-convert\" onclick=\"convertToInteractive('df-5d898b26-725b-4680-80e1-f48765dcc71e')\"\n",
              "            title=\"Convert this dataframe to an interactive table.\"\n",
              "            style=\"display:none;\">\n",
              "\n",
              "  <svg xmlns=\"http://www.w3.org/2000/svg\" height=\"24px\" viewBox=\"0 -960 960 960\">\n",
              "    <path d=\"M120-120v-720h720v720H120Zm60-500h600v-160H180v160Zm220 220h160v-160H400v160Zm0 220h160v-160H400v160ZM180-400h160v-160H180v160Zm440 0h160v-160H620v160ZM180-180h160v-160H180v160Zm440 0h160v-160H620v160Z\"/>\n",
              "  </svg>\n",
              "    </button>\n",
              "\n",
              "  <style>\n",
              "    .colab-df-container {\n",
              "      display:flex;\n",
              "      gap: 12px;\n",
              "    }\n",
              "\n",
              "    .colab-df-convert {\n",
              "      background-color: #E8F0FE;\n",
              "      border: none;\n",
              "      border-radius: 50%;\n",
              "      cursor: pointer;\n",
              "      display: none;\n",
              "      fill: #1967D2;\n",
              "      height: 32px;\n",
              "      padding: 0 0 0 0;\n",
              "      width: 32px;\n",
              "    }\n",
              "\n",
              "    .colab-df-convert:hover {\n",
              "      background-color: #E2EBFA;\n",
              "      box-shadow: 0px 1px 2px rgba(60, 64, 67, 0.3), 0px 1px 3px 1px rgba(60, 64, 67, 0.15);\n",
              "      fill: #174EA6;\n",
              "    }\n",
              "\n",
              "    .colab-df-buttons div {\n",
              "      margin-bottom: 4px;\n",
              "    }\n",
              "\n",
              "    [theme=dark] .colab-df-convert {\n",
              "      background-color: #3B4455;\n",
              "      fill: #D2E3FC;\n",
              "    }\n",
              "\n",
              "    [theme=dark] .colab-df-convert:hover {\n",
              "      background-color: #434B5C;\n",
              "      box-shadow: 0px 1px 3px 1px rgba(0, 0, 0, 0.15);\n",
              "      filter: drop-shadow(0px 1px 2px rgba(0, 0, 0, 0.3));\n",
              "      fill: #FFFFFF;\n",
              "    }\n",
              "  </style>\n",
              "\n",
              "    <script>\n",
              "      const buttonEl =\n",
              "        document.querySelector('#df-5d898b26-725b-4680-80e1-f48765dcc71e button.colab-df-convert');\n",
              "      buttonEl.style.display =\n",
              "        google.colab.kernel.accessAllowed ? 'block' : 'none';\n",
              "\n",
              "      async function convertToInteractive(key) {\n",
              "        const element = document.querySelector('#df-5d898b26-725b-4680-80e1-f48765dcc71e');\n",
              "        const dataTable =\n",
              "          await google.colab.kernel.invokeFunction('convertToInteractive',\n",
              "                                                    [key], {});\n",
              "        if (!dataTable) return;\n",
              "\n",
              "        const docLinkHtml = 'Like what you see? Visit the ' +\n",
              "          '<a target=\"_blank\" href=https://colab.research.google.com/notebooks/data_table.ipynb>data table notebook</a>'\n",
              "          + ' to learn more about interactive tables.';\n",
              "        element.innerHTML = '';\n",
              "        dataTable['output_type'] = 'display_data';\n",
              "        await google.colab.output.renderOutput(dataTable, element);\n",
              "        const docLink = document.createElement('div');\n",
              "        docLink.innerHTML = docLinkHtml;\n",
              "        element.appendChild(docLink);\n",
              "      }\n",
              "    </script>\n",
              "  </div>\n",
              "\n",
              "\n",
              "<div id=\"df-d95472c7-8a52-44b5-af45-e13c7f493e00\">\n",
              "  <button class=\"colab-df-quickchart\" onclick=\"quickchart('df-d95472c7-8a52-44b5-af45-e13c7f493e00')\"\n",
              "            title=\"Suggest charts.\"\n",
              "            style=\"display:none;\">\n",
              "\n",
              "<svg xmlns=\"http://www.w3.org/2000/svg\" height=\"24px\"viewBox=\"0 0 24 24\"\n",
              "     width=\"24px\">\n",
              "    <g>\n",
              "        <path d=\"M19 3H5c-1.1 0-2 .9-2 2v14c0 1.1.9 2 2 2h14c1.1 0 2-.9 2-2V5c0-1.1-.9-2-2-2zM9 17H7v-7h2v7zm4 0h-2V7h2v10zm4 0h-2v-4h2v4z\"/>\n",
              "    </g>\n",
              "</svg>\n",
              "  </button>\n",
              "\n",
              "<style>\n",
              "  .colab-df-quickchart {\n",
              "      --bg-color: #E8F0FE;\n",
              "      --fill-color: #1967D2;\n",
              "      --hover-bg-color: #E2EBFA;\n",
              "      --hover-fill-color: #174EA6;\n",
              "      --disabled-fill-color: #AAA;\n",
              "      --disabled-bg-color: #DDD;\n",
              "  }\n",
              "\n",
              "  [theme=dark] .colab-df-quickchart {\n",
              "      --bg-color: #3B4455;\n",
              "      --fill-color: #D2E3FC;\n",
              "      --hover-bg-color: #434B5C;\n",
              "      --hover-fill-color: #FFFFFF;\n",
              "      --disabled-bg-color: #3B4455;\n",
              "      --disabled-fill-color: #666;\n",
              "  }\n",
              "\n",
              "  .colab-df-quickchart {\n",
              "    background-color: var(--bg-color);\n",
              "    border: none;\n",
              "    border-radius: 50%;\n",
              "    cursor: pointer;\n",
              "    display: none;\n",
              "    fill: var(--fill-color);\n",
              "    height: 32px;\n",
              "    padding: 0;\n",
              "    width: 32px;\n",
              "  }\n",
              "\n",
              "  .colab-df-quickchart:hover {\n",
              "    background-color: var(--hover-bg-color);\n",
              "    box-shadow: 0 1px 2px rgba(60, 64, 67, 0.3), 0 1px 3px 1px rgba(60, 64, 67, 0.15);\n",
              "    fill: var(--button-hover-fill-color);\n",
              "  }\n",
              "\n",
              "  .colab-df-quickchart-complete:disabled,\n",
              "  .colab-df-quickchart-complete:disabled:hover {\n",
              "    background-color: var(--disabled-bg-color);\n",
              "    fill: var(--disabled-fill-color);\n",
              "    box-shadow: none;\n",
              "  }\n",
              "\n",
              "  .colab-df-spinner {\n",
              "    border: 2px solid var(--fill-color);\n",
              "    border-color: transparent;\n",
              "    border-bottom-color: var(--fill-color);\n",
              "    animation:\n",
              "      spin 1s steps(1) infinite;\n",
              "  }\n",
              "\n",
              "  @keyframes spin {\n",
              "    0% {\n",
              "      border-color: transparent;\n",
              "      border-bottom-color: var(--fill-color);\n",
              "      border-left-color: var(--fill-color);\n",
              "    }\n",
              "    20% {\n",
              "      border-color: transparent;\n",
              "      border-left-color: var(--fill-color);\n",
              "      border-top-color: var(--fill-color);\n",
              "    }\n",
              "    30% {\n",
              "      border-color: transparent;\n",
              "      border-left-color: var(--fill-color);\n",
              "      border-top-color: var(--fill-color);\n",
              "      border-right-color: var(--fill-color);\n",
              "    }\n",
              "    40% {\n",
              "      border-color: transparent;\n",
              "      border-right-color: var(--fill-color);\n",
              "      border-top-color: var(--fill-color);\n",
              "    }\n",
              "    60% {\n",
              "      border-color: transparent;\n",
              "      border-right-color: var(--fill-color);\n",
              "    }\n",
              "    80% {\n",
              "      border-color: transparent;\n",
              "      border-right-color: var(--fill-color);\n",
              "      border-bottom-color: var(--fill-color);\n",
              "    }\n",
              "    90% {\n",
              "      border-color: transparent;\n",
              "      border-bottom-color: var(--fill-color);\n",
              "    }\n",
              "  }\n",
              "</style>\n",
              "\n",
              "  <script>\n",
              "    async function quickchart(key) {\n",
              "      const quickchartButtonEl =\n",
              "        document.querySelector('#' + key + ' button');\n",
              "      quickchartButtonEl.disabled = true;  // To prevent multiple clicks.\n",
              "      quickchartButtonEl.classList.add('colab-df-spinner');\n",
              "      try {\n",
              "        const charts = await google.colab.kernel.invokeFunction(\n",
              "            'suggestCharts', [key], {});\n",
              "      } catch (error) {\n",
              "        console.error('Error during call to suggestCharts:', error);\n",
              "      }\n",
              "      quickchartButtonEl.classList.remove('colab-df-spinner');\n",
              "      quickchartButtonEl.classList.add('colab-df-quickchart-complete');\n",
              "    }\n",
              "    (() => {\n",
              "      let quickchartButtonEl =\n",
              "        document.querySelector('#df-d95472c7-8a52-44b5-af45-e13c7f493e00 button');\n",
              "      quickchartButtonEl.style.display =\n",
              "        google.colab.kernel.accessAllowed ? 'block' : 'none';\n",
              "    })();\n",
              "  </script>\n",
              "</div>\n",
              "    </div>\n",
              "  </div>\n"
            ],
            "text/plain": [
              "   Unnamed: 0 score_phrase                                              title  \\\n",
              "0           0      Amazing                            LittleBigPlanet PS Vita   \n",
              "1           1      Amazing  LittleBigPlanet PS Vita -- Marvel Super Hero E...   \n",
              "2           2        Great                               Splice: Tree of Life   \n",
              "3           3        Great                                             NHL 13   \n",
              "4           4        Great                                             NHL 13   \n",
              "\n",
              "                                                 url          platform  score  \\\n",
              "0             /games/littlebigplanet-vita/vita-98907  PlayStation Vita    9.0   \n",
              "1  /games/littlebigplanet-ps-vita-marvel-super-he...  PlayStation Vita    9.0   \n",
              "2                          /games/splice/ipad-141070              iPad    8.5   \n",
              "3                      /games/nhl-13/xbox-360-128182          Xbox 360    8.5   \n",
              "4                           /games/nhl-13/ps3-128181     PlayStation 3    8.5   \n",
              "\n",
              "        genre editors_choice  release_year  release_month  release_day  \n",
              "0  Platformer              Y          2012              9           12  \n",
              "1  Platformer              Y          2012              9           12  \n",
              "2      Puzzle              N          2012              9           12  \n",
              "3      Sports              N          2012              9           11  \n",
              "4      Sports              N          2012              9           11  "
            ]
          },
          "execution_count": 3,
          "metadata": {},
          "output_type": "execute_result"
        }
      ],
      "source": [
        "# Loading data\n",
        "data = pd.read_csv('drive/My Drive/MyNotebookFolder/Capstone-Project/ign.csv')\n",
        "data.head()"
      ]
    },
    {
      "cell_type": "markdown",
      "metadata": {
        "id": "PSjZkjwTx_vO"
      },
      "source": [
        "*   2.1.2 Research of basic statistical indicators\n"
      ]
    },
    {
      "cell_type": "code",
      "execution_count": null,
      "metadata": {
        "colab": {
          "base_uri": "https://localhost:8080/",
          "height": 407
        },
        "id": "cb9mpy8yr72p",
        "outputId": "1dff6de3-f0c0-42aa-9f72-1a07937da8fa"
      },
      "outputs": [
        {
          "data": {
            "text/html": [
              "\n",
              "  <div id=\"df-57504baf-5ca4-41d2-bdcc-c1f5aa82f4e5\" class=\"colab-df-container\">\n",
              "    <div>\n",
              "<style scoped>\n",
              "    .dataframe tbody tr th:only-of-type {\n",
              "        vertical-align: middle;\n",
              "    }\n",
              "\n",
              "    .dataframe tbody tr th {\n",
              "        vertical-align: top;\n",
              "    }\n",
              "\n",
              "    .dataframe thead th {\n",
              "        text-align: right;\n",
              "    }\n",
              "</style>\n",
              "<table border=\"1\" class=\"dataframe\">\n",
              "  <thead>\n",
              "    <tr style=\"text-align: right;\">\n",
              "      <th></th>\n",
              "      <th>Unnamed: 0</th>\n",
              "      <th>score_phrase</th>\n",
              "      <th>title</th>\n",
              "      <th>url</th>\n",
              "      <th>platform</th>\n",
              "      <th>score</th>\n",
              "      <th>genre</th>\n",
              "      <th>editors_choice</th>\n",
              "      <th>release_year</th>\n",
              "      <th>release_month</th>\n",
              "      <th>release_day</th>\n",
              "    </tr>\n",
              "  </thead>\n",
              "  <tbody>\n",
              "    <tr>\n",
              "      <th>count</th>\n",
              "      <td>18625.000000</td>\n",
              "      <td>18625</td>\n",
              "      <td>18625</td>\n",
              "      <td>18625</td>\n",
              "      <td>18625</td>\n",
              "      <td>18625.000000</td>\n",
              "      <td>18625</td>\n",
              "      <td>18625</td>\n",
              "      <td>18625.000000</td>\n",
              "      <td>18625.00000</td>\n",
              "      <td>18625.000000</td>\n",
              "    </tr>\n",
              "    <tr>\n",
              "      <th>unique</th>\n",
              "      <td>NaN</td>\n",
              "      <td>11</td>\n",
              "      <td>12589</td>\n",
              "      <td>18577</td>\n",
              "      <td>59</td>\n",
              "      <td>NaN</td>\n",
              "      <td>112</td>\n",
              "      <td>2</td>\n",
              "      <td>NaN</td>\n",
              "      <td>NaN</td>\n",
              "      <td>NaN</td>\n",
              "    </tr>\n",
              "    <tr>\n",
              "      <th>top</th>\n",
              "      <td>NaN</td>\n",
              "      <td>Great</td>\n",
              "      <td>Open Season</td>\n",
              "      <td>/games/need-for-speed-underground/gcn-552526</td>\n",
              "      <td>PC</td>\n",
              "      <td>NaN</td>\n",
              "      <td>Action</td>\n",
              "      <td>N</td>\n",
              "      <td>NaN</td>\n",
              "      <td>NaN</td>\n",
              "      <td>NaN</td>\n",
              "    </tr>\n",
              "    <tr>\n",
              "      <th>freq</th>\n",
              "      <td>NaN</td>\n",
              "      <td>4773</td>\n",
              "      <td>10</td>\n",
              "      <td>2</td>\n",
              "      <td>3370</td>\n",
              "      <td>NaN</td>\n",
              "      <td>3805</td>\n",
              "      <td>15108</td>\n",
              "      <td>NaN</td>\n",
              "      <td>NaN</td>\n",
              "      <td>NaN</td>\n",
              "    </tr>\n",
              "    <tr>\n",
              "      <th>mean</th>\n",
              "      <td>9312.000000</td>\n",
              "      <td>NaN</td>\n",
              "      <td>NaN</td>\n",
              "      <td>NaN</td>\n",
              "      <td>NaN</td>\n",
              "      <td>6.950459</td>\n",
              "      <td>NaN</td>\n",
              "      <td>NaN</td>\n",
              "      <td>2006.515329</td>\n",
              "      <td>7.13847</td>\n",
              "      <td>15.603866</td>\n",
              "    </tr>\n",
              "    <tr>\n",
              "      <th>std</th>\n",
              "      <td>5376.718717</td>\n",
              "      <td>NaN</td>\n",
              "      <td>NaN</td>\n",
              "      <td>NaN</td>\n",
              "      <td>NaN</td>\n",
              "      <td>1.711736</td>\n",
              "      <td>NaN</td>\n",
              "      <td>NaN</td>\n",
              "      <td>4.587529</td>\n",
              "      <td>3.47671</td>\n",
              "      <td>8.690128</td>\n",
              "    </tr>\n",
              "    <tr>\n",
              "      <th>min</th>\n",
              "      <td>0.000000</td>\n",
              "      <td>NaN</td>\n",
              "      <td>NaN</td>\n",
              "      <td>NaN</td>\n",
              "      <td>NaN</td>\n",
              "      <td>0.500000</td>\n",
              "      <td>NaN</td>\n",
              "      <td>NaN</td>\n",
              "      <td>1970.000000</td>\n",
              "      <td>1.00000</td>\n",
              "      <td>1.000000</td>\n",
              "    </tr>\n",
              "    <tr>\n",
              "      <th>25%</th>\n",
              "      <td>4656.000000</td>\n",
              "      <td>NaN</td>\n",
              "      <td>NaN</td>\n",
              "      <td>NaN</td>\n",
              "      <td>NaN</td>\n",
              "      <td>6.000000</td>\n",
              "      <td>NaN</td>\n",
              "      <td>NaN</td>\n",
              "      <td>2003.000000</td>\n",
              "      <td>4.00000</td>\n",
              "      <td>8.000000</td>\n",
              "    </tr>\n",
              "    <tr>\n",
              "      <th>50%</th>\n",
              "      <td>9312.000000</td>\n",
              "      <td>NaN</td>\n",
              "      <td>NaN</td>\n",
              "      <td>NaN</td>\n",
              "      <td>NaN</td>\n",
              "      <td>7.300000</td>\n",
              "      <td>NaN</td>\n",
              "      <td>NaN</td>\n",
              "      <td>2007.000000</td>\n",
              "      <td>8.00000</td>\n",
              "      <td>16.000000</td>\n",
              "    </tr>\n",
              "    <tr>\n",
              "      <th>75%</th>\n",
              "      <td>13968.000000</td>\n",
              "      <td>NaN</td>\n",
              "      <td>NaN</td>\n",
              "      <td>NaN</td>\n",
              "      <td>NaN</td>\n",
              "      <td>8.200000</td>\n",
              "      <td>NaN</td>\n",
              "      <td>NaN</td>\n",
              "      <td>2010.000000</td>\n",
              "      <td>10.00000</td>\n",
              "      <td>23.000000</td>\n",
              "    </tr>\n",
              "    <tr>\n",
              "      <th>max</th>\n",
              "      <td>18624.000000</td>\n",
              "      <td>NaN</td>\n",
              "      <td>NaN</td>\n",
              "      <td>NaN</td>\n",
              "      <td>NaN</td>\n",
              "      <td>10.000000</td>\n",
              "      <td>NaN</td>\n",
              "      <td>NaN</td>\n",
              "      <td>2016.000000</td>\n",
              "      <td>12.00000</td>\n",
              "      <td>31.000000</td>\n",
              "    </tr>\n",
              "  </tbody>\n",
              "</table>\n",
              "</div>\n",
              "    <div class=\"colab-df-buttons\">\n",
              "\n",
              "  <div class=\"colab-df-container\">\n",
              "    <button class=\"colab-df-convert\" onclick=\"convertToInteractive('df-57504baf-5ca4-41d2-bdcc-c1f5aa82f4e5')\"\n",
              "            title=\"Convert this dataframe to an interactive table.\"\n",
              "            style=\"display:none;\">\n",
              "\n",
              "  <svg xmlns=\"http://www.w3.org/2000/svg\" height=\"24px\" viewBox=\"0 -960 960 960\">\n",
              "    <path d=\"M120-120v-720h720v720H120Zm60-500h600v-160H180v160Zm220 220h160v-160H400v160Zm0 220h160v-160H400v160ZM180-400h160v-160H180v160Zm440 0h160v-160H620v160ZM180-180h160v-160H180v160Zm440 0h160v-160H620v160Z\"/>\n",
              "  </svg>\n",
              "    </button>\n",
              "\n",
              "  <style>\n",
              "    .colab-df-container {\n",
              "      display:flex;\n",
              "      gap: 12px;\n",
              "    }\n",
              "\n",
              "    .colab-df-convert {\n",
              "      background-color: #E8F0FE;\n",
              "      border: none;\n",
              "      border-radius: 50%;\n",
              "      cursor: pointer;\n",
              "      display: none;\n",
              "      fill: #1967D2;\n",
              "      height: 32px;\n",
              "      padding: 0 0 0 0;\n",
              "      width: 32px;\n",
              "    }\n",
              "\n",
              "    .colab-df-convert:hover {\n",
              "      background-color: #E2EBFA;\n",
              "      box-shadow: 0px 1px 2px rgba(60, 64, 67, 0.3), 0px 1px 3px 1px rgba(60, 64, 67, 0.15);\n",
              "      fill: #174EA6;\n",
              "    }\n",
              "\n",
              "    .colab-df-buttons div {\n",
              "      margin-bottom: 4px;\n",
              "    }\n",
              "\n",
              "    [theme=dark] .colab-df-convert {\n",
              "      background-color: #3B4455;\n",
              "      fill: #D2E3FC;\n",
              "    }\n",
              "\n",
              "    [theme=dark] .colab-df-convert:hover {\n",
              "      background-color: #434B5C;\n",
              "      box-shadow: 0px 1px 3px 1px rgba(0, 0, 0, 0.15);\n",
              "      filter: drop-shadow(0px 1px 2px rgba(0, 0, 0, 0.3));\n",
              "      fill: #FFFFFF;\n",
              "    }\n",
              "  </style>\n",
              "\n",
              "    <script>\n",
              "      const buttonEl =\n",
              "        document.querySelector('#df-57504baf-5ca4-41d2-bdcc-c1f5aa82f4e5 button.colab-df-convert');\n",
              "      buttonEl.style.display =\n",
              "        google.colab.kernel.accessAllowed ? 'block' : 'none';\n",
              "\n",
              "      async function convertToInteractive(key) {\n",
              "        const element = document.querySelector('#df-57504baf-5ca4-41d2-bdcc-c1f5aa82f4e5');\n",
              "        const dataTable =\n",
              "          await google.colab.kernel.invokeFunction('convertToInteractive',\n",
              "                                                    [key], {});\n",
              "        if (!dataTable) return;\n",
              "\n",
              "        const docLinkHtml = 'Like what you see? Visit the ' +\n",
              "          '<a target=\"_blank\" href=https://colab.research.google.com/notebooks/data_table.ipynb>data table notebook</a>'\n",
              "          + ' to learn more about interactive tables.';\n",
              "        element.innerHTML = '';\n",
              "        dataTable['output_type'] = 'display_data';\n",
              "        await google.colab.output.renderOutput(dataTable, element);\n",
              "        const docLink = document.createElement('div');\n",
              "        docLink.innerHTML = docLinkHtml;\n",
              "        element.appendChild(docLink);\n",
              "      }\n",
              "    </script>\n",
              "  </div>\n",
              "\n",
              "\n",
              "<div id=\"df-b0bbc3a7-f2e4-4017-8342-f9dc7adf22f6\">\n",
              "  <button class=\"colab-df-quickchart\" onclick=\"quickchart('df-b0bbc3a7-f2e4-4017-8342-f9dc7adf22f6')\"\n",
              "            title=\"Suggest charts.\"\n",
              "            style=\"display:none;\">\n",
              "\n",
              "<svg xmlns=\"http://www.w3.org/2000/svg\" height=\"24px\"viewBox=\"0 0 24 24\"\n",
              "     width=\"24px\">\n",
              "    <g>\n",
              "        <path d=\"M19 3H5c-1.1 0-2 .9-2 2v14c0 1.1.9 2 2 2h14c1.1 0 2-.9 2-2V5c0-1.1-.9-2-2-2zM9 17H7v-7h2v7zm4 0h-2V7h2v10zm4 0h-2v-4h2v4z\"/>\n",
              "    </g>\n",
              "</svg>\n",
              "  </button>\n",
              "\n",
              "<style>\n",
              "  .colab-df-quickchart {\n",
              "      --bg-color: #E8F0FE;\n",
              "      --fill-color: #1967D2;\n",
              "      --hover-bg-color: #E2EBFA;\n",
              "      --hover-fill-color: #174EA6;\n",
              "      --disabled-fill-color: #AAA;\n",
              "      --disabled-bg-color: #DDD;\n",
              "  }\n",
              "\n",
              "  [theme=dark] .colab-df-quickchart {\n",
              "      --bg-color: #3B4455;\n",
              "      --fill-color: #D2E3FC;\n",
              "      --hover-bg-color: #434B5C;\n",
              "      --hover-fill-color: #FFFFFF;\n",
              "      --disabled-bg-color: #3B4455;\n",
              "      --disabled-fill-color: #666;\n",
              "  }\n",
              "\n",
              "  .colab-df-quickchart {\n",
              "    background-color: var(--bg-color);\n",
              "    border: none;\n",
              "    border-radius: 50%;\n",
              "    cursor: pointer;\n",
              "    display: none;\n",
              "    fill: var(--fill-color);\n",
              "    height: 32px;\n",
              "    padding: 0;\n",
              "    width: 32px;\n",
              "  }\n",
              "\n",
              "  .colab-df-quickchart:hover {\n",
              "    background-color: var(--hover-bg-color);\n",
              "    box-shadow: 0 1px 2px rgba(60, 64, 67, 0.3), 0 1px 3px 1px rgba(60, 64, 67, 0.15);\n",
              "    fill: var(--button-hover-fill-color);\n",
              "  }\n",
              "\n",
              "  .colab-df-quickchart-complete:disabled,\n",
              "  .colab-df-quickchart-complete:disabled:hover {\n",
              "    background-color: var(--disabled-bg-color);\n",
              "    fill: var(--disabled-fill-color);\n",
              "    box-shadow: none;\n",
              "  }\n",
              "\n",
              "  .colab-df-spinner {\n",
              "    border: 2px solid var(--fill-color);\n",
              "    border-color: transparent;\n",
              "    border-bottom-color: var(--fill-color);\n",
              "    animation:\n",
              "      spin 1s steps(1) infinite;\n",
              "  }\n",
              "\n",
              "  @keyframes spin {\n",
              "    0% {\n",
              "      border-color: transparent;\n",
              "      border-bottom-color: var(--fill-color);\n",
              "      border-left-color: var(--fill-color);\n",
              "    }\n",
              "    20% {\n",
              "      border-color: transparent;\n",
              "      border-left-color: var(--fill-color);\n",
              "      border-top-color: var(--fill-color);\n",
              "    }\n",
              "    30% {\n",
              "      border-color: transparent;\n",
              "      border-left-color: var(--fill-color);\n",
              "      border-top-color: var(--fill-color);\n",
              "      border-right-color: var(--fill-color);\n",
              "    }\n",
              "    40% {\n",
              "      border-color: transparent;\n",
              "      border-right-color: var(--fill-color);\n",
              "      border-top-color: var(--fill-color);\n",
              "    }\n",
              "    60% {\n",
              "      border-color: transparent;\n",
              "      border-right-color: var(--fill-color);\n",
              "    }\n",
              "    80% {\n",
              "      border-color: transparent;\n",
              "      border-right-color: var(--fill-color);\n",
              "      border-bottom-color: var(--fill-color);\n",
              "    }\n",
              "    90% {\n",
              "      border-color: transparent;\n",
              "      border-bottom-color: var(--fill-color);\n",
              "    }\n",
              "  }\n",
              "</style>\n",
              "\n",
              "  <script>\n",
              "    async function quickchart(key) {\n",
              "      const quickchartButtonEl =\n",
              "        document.querySelector('#' + key + ' button');\n",
              "      quickchartButtonEl.disabled = true;  // To prevent multiple clicks.\n",
              "      quickchartButtonEl.classList.add('colab-df-spinner');\n",
              "      try {\n",
              "        const charts = await google.colab.kernel.invokeFunction(\n",
              "            'suggestCharts', [key], {});\n",
              "      } catch (error) {\n",
              "        console.error('Error during call to suggestCharts:', error);\n",
              "      }\n",
              "      quickchartButtonEl.classList.remove('colab-df-spinner');\n",
              "      quickchartButtonEl.classList.add('colab-df-quickchart-complete');\n",
              "    }\n",
              "    (() => {\n",
              "      let quickchartButtonEl =\n",
              "        document.querySelector('#df-b0bbc3a7-f2e4-4017-8342-f9dc7adf22f6 button');\n",
              "      quickchartButtonEl.style.display =\n",
              "        google.colab.kernel.accessAllowed ? 'block' : 'none';\n",
              "    })();\n",
              "  </script>\n",
              "</div>\n",
              "    </div>\n",
              "  </div>\n"
            ],
            "text/plain": [
              "          Unnamed: 0 score_phrase        title  \\\n",
              "count   18625.000000        18625        18625   \n",
              "unique           NaN           11        12589   \n",
              "top              NaN        Great  Open Season   \n",
              "freq             NaN         4773           10   \n",
              "mean     9312.000000          NaN          NaN   \n",
              "std      5376.718717          NaN          NaN   \n",
              "min         0.000000          NaN          NaN   \n",
              "25%      4656.000000          NaN          NaN   \n",
              "50%      9312.000000          NaN          NaN   \n",
              "75%     13968.000000          NaN          NaN   \n",
              "max     18624.000000          NaN          NaN   \n",
              "\n",
              "                                                 url platform         score  \\\n",
              "count                                          18625    18625  18625.000000   \n",
              "unique                                         18577       59           NaN   \n",
              "top     /games/need-for-speed-underground/gcn-552526       PC           NaN   \n",
              "freq                                               2     3370           NaN   \n",
              "mean                                             NaN      NaN      6.950459   \n",
              "std                                              NaN      NaN      1.711736   \n",
              "min                                              NaN      NaN      0.500000   \n",
              "25%                                              NaN      NaN      6.000000   \n",
              "50%                                              NaN      NaN      7.300000   \n",
              "75%                                              NaN      NaN      8.200000   \n",
              "max                                              NaN      NaN     10.000000   \n",
              "\n",
              "         genre editors_choice  release_year  release_month   release_day  \n",
              "count    18625          18625  18625.000000    18625.00000  18625.000000  \n",
              "unique     112              2           NaN            NaN           NaN  \n",
              "top     Action              N           NaN            NaN           NaN  \n",
              "freq      3805          15108           NaN            NaN           NaN  \n",
              "mean       NaN            NaN   2006.515329        7.13847     15.603866  \n",
              "std        NaN            NaN      4.587529        3.47671      8.690128  \n",
              "min        NaN            NaN   1970.000000        1.00000      1.000000  \n",
              "25%        NaN            NaN   2003.000000        4.00000      8.000000  \n",
              "50%        NaN            NaN   2007.000000        8.00000     16.000000  \n",
              "75%        NaN            NaN   2010.000000       10.00000     23.000000  \n",
              "max        NaN            NaN   2016.000000       12.00000     31.000000  "
            ]
          },
          "execution_count": 4,
          "metadata": {},
          "output_type": "execute_result"
        }
      ],
      "source": [
        "summary_statistics = data.describe(include='all')\n",
        "summary_statistics"
      ]
    },
    {
      "cell_type": "markdown",
      "metadata": {
        "id": "ZauNZMTQ_V1A"
      },
      "source": [
        "Statistical indicators:\n",
        "\n",
        "1.   **score_phrase**\n",
        "> There are 11 unique score phrases, with \"Great\" being the most common.\n",
        "2.   **title**\n",
        "> There are 12,589 unique game titles in the dataset.\n",
        "3.   **platform**\n",
        "> There are 59 different platforms, the most popular of which is PC.\n",
        "4.   **score**\n",
        "> The average rating of games is approximately 6.95, with a minimum rating of 0.5 and a maximum of 10.\n",
        "5.   **genre**\n",
        "> There are 112 different game genres, with the most popular genre being \"Action\".\n",
        "6.   **editors_choice**\n",
        "> Most of the games (15,108) were not chosen by the editors (value \"N\").\n",
        "7.   **release_year**\n",
        "> Data covers games released from 1970 to 2016.\n",
        "---\n",
        "\n"
      ]
    },
    {
      "cell_type": "markdown",
      "metadata": {
        "id": "wbWPurkxBTGA"
      },
      "source": [
        "*   2.1.3 Find missing values"
      ]
    },
    {
      "cell_type": "code",
      "execution_count": null,
      "metadata": {
        "colab": {
          "base_uri": "https://localhost:8080/"
        },
        "id": "zed04ux-BzO4",
        "outputId": "bf07a9d8-0027-4bc4-db07-84cd035bb4c4"
      },
      "outputs": [
        {
          "data": {
            "text/plain": [
              "Unnamed: 0        0\n",
              "score_phrase      0\n",
              "title             0\n",
              "url               0\n",
              "platform          0\n",
              "score             0\n",
              "genre             0\n",
              "editors_choice    0\n",
              "release_year      0\n",
              "release_month     0\n",
              "release_day       0\n",
              "dtype: int64"
            ]
          },
          "execution_count": 5,
          "metadata": {},
          "output_type": "execute_result"
        }
      ],
      "source": [
        "missing_values = data.isnull().sum()\n",
        "missing_values"
      ]
    },
    {
      "cell_type": "markdown",
      "metadata": {
        "id": "ruF9NujhCDJy"
      },
      "source": [
        "*There are no missing values in the data set.*\n",
        "\n",
        "\n",
        "---\n"
      ]
    },
    {
      "cell_type": "markdown",
      "metadata": {
        "id": "EAou73blRVUk"
      },
      "source": [
        "*   2.1.4 Checking data types\n",
        "\n",
        "Make sure that the data types for each column match their contents"
      ]
    },
    {
      "cell_type": "markdown",
      "metadata": {
        "id": "KleuGfo4B9EH"
      },
      "source": [
        "Let's set the value to float64 for the ratings"
      ]
    },
    {
      "cell_type": "code",
      "execution_count": null,
      "metadata": {
        "colab": {
          "base_uri": "https://localhost:8080/"
        },
        "id": "f7YuS40yB8p5",
        "outputId": "8529e5ba-6997-4e40-cb9c-cc91e5d8eaaf"
      },
      "outputs": [
        {
          "data": {
            "text/plain": [
              "dtype('float64')"
            ]
          },
          "execution_count": 6,
          "metadata": {},
          "output_type": "execute_result"
        }
      ],
      "source": [
        "data['score'] = data['score'].astype('float64')\n",
        "data['score'].dtype"
      ]
    },
    {
      "cell_type": "markdown",
      "metadata": {
        "id": "W4yZI6IjB7a7"
      },
      "source": [
        "Will notice that the release_year, release_month, and release_day columns can be combined into a single column with a datetime data type. This will make working with dates easier in the future"
      ]
    },
    {
      "cell_type": "code",
      "execution_count": null,
      "metadata": {
        "colab": {
          "base_uri": "https://localhost:8080/"
        },
        "id": "XDvIZQ6hBv60",
        "outputId": "5de7c6ee-298b-4709-b3ea-d654c461e9b9"
      },
      "outputs": [
        {
          "data": {
            "text/plain": [
              "(   release_year  release_month  release_day release_date\n",
              " 0          2012              9           12   2012-09-12\n",
              " 1          2012              9           12   2012-09-12\n",
              " 2          2012              9           12   2012-09-12\n",
              " 3          2012              9           11   2012-09-11\n",
              " 4          2012              9           11   2012-09-11,\n",
              " dtype('<M8[ns]'))"
            ]
          },
          "execution_count": 7,
          "metadata": {},
          "output_type": "execute_result"
        }
      ],
      "source": [
        "# Convert columns with year, month and day of release into one column with type datetime\n",
        "data['release_date'] = pd.to_datetime(data['release_year'].astype(str) + '-' +\n",
        "                                              data['release_month'].astype(str) + '-' +\n",
        "                                              data['release_day'].astype(str))\n",
        "# Checking the new column and its data type\n",
        "data[['release_year', 'release_month', 'release_day', 'release_date']].head(), data['release_date'].dtype"
      ]
    },
    {
      "cell_type": "code",
      "execution_count": null,
      "metadata": {
        "colab": {
          "base_uri": "https://localhost:8080/"
        },
        "id": "fXgEcb-JBUL7",
        "outputId": "a08cfc4c-55ba-4351-e71f-48cba4b55df0"
      },
      "outputs": [
        {
          "data": {
            "text/plain": [
              "Unnamed: 0                 int64\n",
              "score_phrase              object\n",
              "title                     object\n",
              "url                       object\n",
              "platform                  object\n",
              "score                    float64\n",
              "genre                     object\n",
              "editors_choice            object\n",
              "release_year               int64\n",
              "release_month              int64\n",
              "release_day                int64\n",
              "release_date      datetime64[ns]\n",
              "dtype: object"
            ]
          },
          "execution_count": 8,
          "metadata": {},
          "output_type": "execute_result"
        }
      ],
      "source": [
        "data.dtypes"
      ]
    },
    {
      "cell_type": "markdown",
      "metadata": {
        "id": "mBnLKmbySKiw"
      },
      "source": [
        "*Data types for each column in the dataset:*\n",
        "\n",
        "> 1.   Unnamed: 0: int64 (integer)\n",
        "2.   score_phrase: object (string or text)\n",
        "3.   title: object (string or text)\n",
        "4.   url: object (string or text)\n",
        "5.   platform: object (string or text)\n",
        "6.   score: float64 (real number)\n",
        "7.   genre: object (string or text)\n",
        "8.   editors_choice: object (string or text)\n",
        "9.   release_year: int64 (integer)\n",
        "10.   release_month: int64 (integer)\n",
        "11.   release_day: int64 (integer)\n",
        "12.   release_date: datetime64[ns]\n",
        "\n",
        "\n",
        "*All variables have correct values*"
      ]
    },
    {
      "cell_type": "markdown",
      "metadata": {
        "id": "tD5qzaBYCStS"
      },
      "source": [
        "*   2.1.5 Unique values for each column"
      ]
    },
    {
      "cell_type": "code",
      "execution_count": null,
      "metadata": {
        "colab": {
          "base_uri": "https://localhost:8080/"
        },
        "id": "dQ46S112CWgC",
        "outputId": "0d164acd-5398-4f6c-bf06-b9837b5aac5e"
      },
      "outputs": [
        {
          "data": {
            "text/plain": [
              "Unnamed: 0        18625\n",
              "score_phrase         11\n",
              "title             12589\n",
              "url               18577\n",
              "platform             59\n",
              "score                93\n",
              "genre               112\n",
              "editors_choice        2\n",
              "release_year         22\n",
              "release_month        12\n",
              "release_day          31\n",
              "release_date       4300\n",
              "dtype: int64"
            ]
          },
          "execution_count": 9,
          "metadata": {},
          "output_type": "execute_result"
        }
      ],
      "source": [
        "unique_values = data.nunique()\n",
        "unique_values"
      ]
    },
    {
      "cell_type": "markdown",
      "metadata": {
        "id": "cjkLfdPLHEAr"
      },
      "source": [
        "*According to the dataset, there are 18,577 unique URLs out of 18,625 records. This indicates that some URLs are duplicates, let's check this:*\n"
      ]
    },
    {
      "cell_type": "code",
      "execution_count": null,
      "metadata": {
        "colab": {
          "base_uri": "https://localhost:8080/",
          "height": 728
        },
        "id": "dmuwlJmfHL4U",
        "outputId": "74ae82e6-aa25-4781-c8f8-e16396bafa59"
      },
      "outputs": [
        {
          "data": {
            "text/html": [
              "\n",
              "  <div id=\"df-4792a95f-3b14-43e6-8cf4-d15ba78f4bb0\" class=\"colab-df-container\">\n",
              "    <div>\n",
              "<style scoped>\n",
              "    .dataframe tbody tr th:only-of-type {\n",
              "        vertical-align: middle;\n",
              "    }\n",
              "\n",
              "    .dataframe tbody tr th {\n",
              "        vertical-align: top;\n",
              "    }\n",
              "\n",
              "    .dataframe thead th {\n",
              "        text-align: right;\n",
              "    }\n",
              "</style>\n",
              "<table border=\"1\" class=\"dataframe\">\n",
              "  <thead>\n",
              "    <tr style=\"text-align: right;\">\n",
              "      <th></th>\n",
              "      <th>Unnamed: 0</th>\n",
              "      <th>score_phrase</th>\n",
              "      <th>title</th>\n",
              "      <th>url</th>\n",
              "      <th>platform</th>\n",
              "      <th>score</th>\n",
              "      <th>genre</th>\n",
              "      <th>editors_choice</th>\n",
              "      <th>release_year</th>\n",
              "      <th>release_month</th>\n",
              "      <th>release_day</th>\n",
              "      <th>release_date</th>\n",
              "    </tr>\n",
              "  </thead>\n",
              "  <tbody>\n",
              "    <tr>\n",
              "      <th>6100</th>\n",
              "      <td>6100</td>\n",
              "      <td>Okay</td>\n",
              "      <td>Aladdin</td>\n",
              "      <td>/games/aladdin/gba-566703</td>\n",
              "      <td>Game Boy Advance</td>\n",
              "      <td>6.5</td>\n",
              "      <td>Platformer</td>\n",
              "      <td>N</td>\n",
              "      <td>2004</td>\n",
              "      <td>10</td>\n",
              "      <td>5</td>\n",
              "      <td>2004-10-05</td>\n",
              "    </tr>\n",
              "    <tr>\n",
              "      <th>6211</th>\n",
              "      <td>6211</td>\n",
              "      <td>Okay</td>\n",
              "      <td>Aladdin</td>\n",
              "      <td>/games/aladdin/gba-566703</td>\n",
              "      <td>Game Boy Advance</td>\n",
              "      <td>6.5</td>\n",
              "      <td>Platformer</td>\n",
              "      <td>N</td>\n",
              "      <td>2004</td>\n",
              "      <td>10</td>\n",
              "      <td>5</td>\n",
              "      <td>2004-10-05</td>\n",
              "    </tr>\n",
              "    <tr>\n",
              "      <th>12025</th>\n",
              "      <td>12025</td>\n",
              "      <td>Painful</td>\n",
              "      <td>Big League Sports</td>\n",
              "      <td>/games/big-league-sports/wii-14275098</td>\n",
              "      <td>Wii</td>\n",
              "      <td>2.3</td>\n",
              "      <td>Sports, Compilation</td>\n",
              "      <td>N</td>\n",
              "      <td>2008</td>\n",
              "      <td>11</td>\n",
              "      <td>25</td>\n",
              "      <td>2008-11-25</td>\n",
              "    </tr>\n",
              "    <tr>\n",
              "      <th>12117</th>\n",
              "      <td>12117</td>\n",
              "      <td>Painful</td>\n",
              "      <td>Big League Sports</td>\n",
              "      <td>/games/big-league-sports/wii-14275098</td>\n",
              "      <td>Wii</td>\n",
              "      <td>2.3</td>\n",
              "      <td>Sports, Compilation</td>\n",
              "      <td>N</td>\n",
              "      <td>2008</td>\n",
              "      <td>11</td>\n",
              "      <td>25</td>\n",
              "      <td>2008-11-25</td>\n",
              "    </tr>\n",
              "    <tr>\n",
              "      <th>14702</th>\n",
              "      <td>14702</td>\n",
              "      <td>Good</td>\n",
              "      <td>Blur</td>\n",
              "      <td>/games/blur/xbox-360-14222096</td>\n",
              "      <td>Xbox 360</td>\n",
              "      <td>7.0</td>\n",
              "      <td>Racing</td>\n",
              "      <td>N</td>\n",
              "      <td>2010</td>\n",
              "      <td>5</td>\n",
              "      <td>25</td>\n",
              "      <td>2010-05-25</td>\n",
              "    </tr>\n",
              "    <tr>\n",
              "      <th>...</th>\n",
              "      <td>...</td>\n",
              "      <td>...</td>\n",
              "      <td>...</td>\n",
              "      <td>...</td>\n",
              "      <td>...</td>\n",
              "      <td>...</td>\n",
              "      <td>...</td>\n",
              "      <td>...</td>\n",
              "      <td>...</td>\n",
              "      <td>...</td>\n",
              "      <td>...</td>\n",
              "      <td>...</td>\n",
              "    </tr>\n",
              "    <tr>\n",
              "      <th>443</th>\n",
              "      <td>443</td>\n",
              "      <td>Amazing</td>\n",
              "      <td>WipEout XL</td>\n",
              "      <td>/games/wipeout-2097/ps-473</td>\n",
              "      <td>PlayStation</td>\n",
              "      <td>9.0</td>\n",
              "      <td>Racing</td>\n",
              "      <td>Y</td>\n",
              "      <td>1996</td>\n",
              "      <td>11</td>\n",
              "      <td>26</td>\n",
              "      <td>1996-11-26</td>\n",
              "    </tr>\n",
              "    <tr>\n",
              "      <th>5604</th>\n",
              "      <td>5604</td>\n",
              "      <td>Good</td>\n",
              "      <td>Yu-Gi-Oh! World Championship Tournament 2004</td>\n",
              "      <td>/games/yu-gi-oh-world-championship-tournament-...</td>\n",
              "      <td>Game Boy Advance</td>\n",
              "      <td>7.5</td>\n",
              "      <td>Card, Battle</td>\n",
              "      <td>N</td>\n",
              "      <td>2004</td>\n",
              "      <td>2</td>\n",
              "      <td>13</td>\n",
              "      <td>2004-02-13</td>\n",
              "    </tr>\n",
              "    <tr>\n",
              "      <th>5594</th>\n",
              "      <td>5594</td>\n",
              "      <td>Good</td>\n",
              "      <td>Yu-Gi-Oh! World Championship Tournament 2004</td>\n",
              "      <td>/games/yu-gi-oh-world-championship-tournament-...</td>\n",
              "      <td>Game Boy Advance</td>\n",
              "      <td>7.5</td>\n",
              "      <td>Card, Battle</td>\n",
              "      <td>N</td>\n",
              "      <td>2004</td>\n",
              "      <td>2</td>\n",
              "      <td>13</td>\n",
              "      <td>2004-02-13</td>\n",
              "    </tr>\n",
              "    <tr>\n",
              "      <th>3887</th>\n",
              "      <td>3887</td>\n",
              "      <td>Mediocre</td>\n",
              "      <td>ZooCube</td>\n",
              "      <td>/games/zoocube/gba-479813</td>\n",
              "      <td>Game Boy Advance</td>\n",
              "      <td>5.3</td>\n",
              "      <td>Puzzle</td>\n",
              "      <td>N</td>\n",
              "      <td>2002</td>\n",
              "      <td>6</td>\n",
              "      <td>11</td>\n",
              "      <td>2002-06-11</td>\n",
              "    </tr>\n",
              "    <tr>\n",
              "      <th>3914</th>\n",
              "      <td>3914</td>\n",
              "      <td>Mediocre</td>\n",
              "      <td>ZooCube</td>\n",
              "      <td>/games/zoocube/gba-479813</td>\n",
              "      <td>Game Boy Advance</td>\n",
              "      <td>5.3</td>\n",
              "      <td>Puzzle</td>\n",
              "      <td>N</td>\n",
              "      <td>2002</td>\n",
              "      <td>6</td>\n",
              "      <td>11</td>\n",
              "      <td>2002-06-11</td>\n",
              "    </tr>\n",
              "  </tbody>\n",
              "</table>\n",
              "<p>96 rows × 12 columns</p>\n",
              "</div>\n",
              "    <div class=\"colab-df-buttons\">\n",
              "\n",
              "  <div class=\"colab-df-container\">\n",
              "    <button class=\"colab-df-convert\" onclick=\"convertToInteractive('df-4792a95f-3b14-43e6-8cf4-d15ba78f4bb0')\"\n",
              "            title=\"Convert this dataframe to an interactive table.\"\n",
              "            style=\"display:none;\">\n",
              "\n",
              "  <svg xmlns=\"http://www.w3.org/2000/svg\" height=\"24px\" viewBox=\"0 -960 960 960\">\n",
              "    <path d=\"M120-120v-720h720v720H120Zm60-500h600v-160H180v160Zm220 220h160v-160H400v160Zm0 220h160v-160H400v160ZM180-400h160v-160H180v160Zm440 0h160v-160H620v160ZM180-180h160v-160H180v160Zm440 0h160v-160H620v160Z\"/>\n",
              "  </svg>\n",
              "    </button>\n",
              "\n",
              "  <style>\n",
              "    .colab-df-container {\n",
              "      display:flex;\n",
              "      gap: 12px;\n",
              "    }\n",
              "\n",
              "    .colab-df-convert {\n",
              "      background-color: #E8F0FE;\n",
              "      border: none;\n",
              "      border-radius: 50%;\n",
              "      cursor: pointer;\n",
              "      display: none;\n",
              "      fill: #1967D2;\n",
              "      height: 32px;\n",
              "      padding: 0 0 0 0;\n",
              "      width: 32px;\n",
              "    }\n",
              "\n",
              "    .colab-df-convert:hover {\n",
              "      background-color: #E2EBFA;\n",
              "      box-shadow: 0px 1px 2px rgba(60, 64, 67, 0.3), 0px 1px 3px 1px rgba(60, 64, 67, 0.15);\n",
              "      fill: #174EA6;\n",
              "    }\n",
              "\n",
              "    .colab-df-buttons div {\n",
              "      margin-bottom: 4px;\n",
              "    }\n",
              "\n",
              "    [theme=dark] .colab-df-convert {\n",
              "      background-color: #3B4455;\n",
              "      fill: #D2E3FC;\n",
              "    }\n",
              "\n",
              "    [theme=dark] .colab-df-convert:hover {\n",
              "      background-color: #434B5C;\n",
              "      box-shadow: 0px 1px 3px 1px rgba(0, 0, 0, 0.15);\n",
              "      filter: drop-shadow(0px 1px 2px rgba(0, 0, 0, 0.3));\n",
              "      fill: #FFFFFF;\n",
              "    }\n",
              "  </style>\n",
              "\n",
              "    <script>\n",
              "      const buttonEl =\n",
              "        document.querySelector('#df-4792a95f-3b14-43e6-8cf4-d15ba78f4bb0 button.colab-df-convert');\n",
              "      buttonEl.style.display =\n",
              "        google.colab.kernel.accessAllowed ? 'block' : 'none';\n",
              "\n",
              "      async function convertToInteractive(key) {\n",
              "        const element = document.querySelector('#df-4792a95f-3b14-43e6-8cf4-d15ba78f4bb0');\n",
              "        const dataTable =\n",
              "          await google.colab.kernel.invokeFunction('convertToInteractive',\n",
              "                                                    [key], {});\n",
              "        if (!dataTable) return;\n",
              "\n",
              "        const docLinkHtml = 'Like what you see? Visit the ' +\n",
              "          '<a target=\"_blank\" href=https://colab.research.google.com/notebooks/data_table.ipynb>data table notebook</a>'\n",
              "          + ' to learn more about interactive tables.';\n",
              "        element.innerHTML = '';\n",
              "        dataTable['output_type'] = 'display_data';\n",
              "        await google.colab.output.renderOutput(dataTable, element);\n",
              "        const docLink = document.createElement('div');\n",
              "        docLink.innerHTML = docLinkHtml;\n",
              "        element.appendChild(docLink);\n",
              "      }\n",
              "    </script>\n",
              "  </div>\n",
              "\n",
              "\n",
              "<div id=\"df-b77bea43-c469-4e65-bf47-86963b42ceb0\">\n",
              "  <button class=\"colab-df-quickchart\" onclick=\"quickchart('df-b77bea43-c469-4e65-bf47-86963b42ceb0')\"\n",
              "            title=\"Suggest charts.\"\n",
              "            style=\"display:none;\">\n",
              "\n",
              "<svg xmlns=\"http://www.w3.org/2000/svg\" height=\"24px\"viewBox=\"0 0 24 24\"\n",
              "     width=\"24px\">\n",
              "    <g>\n",
              "        <path d=\"M19 3H5c-1.1 0-2 .9-2 2v14c0 1.1.9 2 2 2h14c1.1 0 2-.9 2-2V5c0-1.1-.9-2-2-2zM9 17H7v-7h2v7zm4 0h-2V7h2v10zm4 0h-2v-4h2v4z\"/>\n",
              "    </g>\n",
              "</svg>\n",
              "  </button>\n",
              "\n",
              "<style>\n",
              "  .colab-df-quickchart {\n",
              "      --bg-color: #E8F0FE;\n",
              "      --fill-color: #1967D2;\n",
              "      --hover-bg-color: #E2EBFA;\n",
              "      --hover-fill-color: #174EA6;\n",
              "      --disabled-fill-color: #AAA;\n",
              "      --disabled-bg-color: #DDD;\n",
              "  }\n",
              "\n",
              "  [theme=dark] .colab-df-quickchart {\n",
              "      --bg-color: #3B4455;\n",
              "      --fill-color: #D2E3FC;\n",
              "      --hover-bg-color: #434B5C;\n",
              "      --hover-fill-color: #FFFFFF;\n",
              "      --disabled-bg-color: #3B4455;\n",
              "      --disabled-fill-color: #666;\n",
              "  }\n",
              "\n",
              "  .colab-df-quickchart {\n",
              "    background-color: var(--bg-color);\n",
              "    border: none;\n",
              "    border-radius: 50%;\n",
              "    cursor: pointer;\n",
              "    display: none;\n",
              "    fill: var(--fill-color);\n",
              "    height: 32px;\n",
              "    padding: 0;\n",
              "    width: 32px;\n",
              "  }\n",
              "\n",
              "  .colab-df-quickchart:hover {\n",
              "    background-color: var(--hover-bg-color);\n",
              "    box-shadow: 0 1px 2px rgba(60, 64, 67, 0.3), 0 1px 3px 1px rgba(60, 64, 67, 0.15);\n",
              "    fill: var(--button-hover-fill-color);\n",
              "  }\n",
              "\n",
              "  .colab-df-quickchart-complete:disabled,\n",
              "  .colab-df-quickchart-complete:disabled:hover {\n",
              "    background-color: var(--disabled-bg-color);\n",
              "    fill: var(--disabled-fill-color);\n",
              "    box-shadow: none;\n",
              "  }\n",
              "\n",
              "  .colab-df-spinner {\n",
              "    border: 2px solid var(--fill-color);\n",
              "    border-color: transparent;\n",
              "    border-bottom-color: var(--fill-color);\n",
              "    animation:\n",
              "      spin 1s steps(1) infinite;\n",
              "  }\n",
              "\n",
              "  @keyframes spin {\n",
              "    0% {\n",
              "      border-color: transparent;\n",
              "      border-bottom-color: var(--fill-color);\n",
              "      border-left-color: var(--fill-color);\n",
              "    }\n",
              "    20% {\n",
              "      border-color: transparent;\n",
              "      border-left-color: var(--fill-color);\n",
              "      border-top-color: var(--fill-color);\n",
              "    }\n",
              "    30% {\n",
              "      border-color: transparent;\n",
              "      border-left-color: var(--fill-color);\n",
              "      border-top-color: var(--fill-color);\n",
              "      border-right-color: var(--fill-color);\n",
              "    }\n",
              "    40% {\n",
              "      border-color: transparent;\n",
              "      border-right-color: var(--fill-color);\n",
              "      border-top-color: var(--fill-color);\n",
              "    }\n",
              "    60% {\n",
              "      border-color: transparent;\n",
              "      border-right-color: var(--fill-color);\n",
              "    }\n",
              "    80% {\n",
              "      border-color: transparent;\n",
              "      border-right-color: var(--fill-color);\n",
              "      border-bottom-color: var(--fill-color);\n",
              "    }\n",
              "    90% {\n",
              "      border-color: transparent;\n",
              "      border-bottom-color: var(--fill-color);\n",
              "    }\n",
              "  }\n",
              "</style>\n",
              "\n",
              "  <script>\n",
              "    async function quickchart(key) {\n",
              "      const quickchartButtonEl =\n",
              "        document.querySelector('#' + key + ' button');\n",
              "      quickchartButtonEl.disabled = true;  // To prevent multiple clicks.\n",
              "      quickchartButtonEl.classList.add('colab-df-spinner');\n",
              "      try {\n",
              "        const charts = await google.colab.kernel.invokeFunction(\n",
              "            'suggestCharts', [key], {});\n",
              "      } catch (error) {\n",
              "        console.error('Error during call to suggestCharts:', error);\n",
              "      }\n",
              "      quickchartButtonEl.classList.remove('colab-df-spinner');\n",
              "      quickchartButtonEl.classList.add('colab-df-quickchart-complete');\n",
              "    }\n",
              "    (() => {\n",
              "      let quickchartButtonEl =\n",
              "        document.querySelector('#df-b77bea43-c469-4e65-bf47-86963b42ceb0 button');\n",
              "      quickchartButtonEl.style.display =\n",
              "        google.colab.kernel.accessAllowed ? 'block' : 'none';\n",
              "    })();\n",
              "  </script>\n",
              "</div>\n",
              "    </div>\n",
              "  </div>\n"
            ],
            "text/plain": [
              "       Unnamed: 0 score_phrase                                         title  \\\n",
              "6100         6100         Okay                                       Aladdin   \n",
              "6211         6211         Okay                                       Aladdin   \n",
              "12025       12025      Painful                             Big League Sports   \n",
              "12117       12117      Painful                             Big League Sports   \n",
              "14702       14702         Good                                          Blur   \n",
              "...           ...          ...                                           ...   \n",
              "443           443      Amazing                                    WipEout XL   \n",
              "5604         5604         Good  Yu-Gi-Oh! World Championship Tournament 2004   \n",
              "5594         5594         Good  Yu-Gi-Oh! World Championship Tournament 2004   \n",
              "3887         3887     Mediocre                                       ZooCube   \n",
              "3914         3914     Mediocre                                       ZooCube   \n",
              "\n",
              "                                                     url          platform  \\\n",
              "6100                           /games/aladdin/gba-566703  Game Boy Advance   \n",
              "6211                           /games/aladdin/gba-566703  Game Boy Advance   \n",
              "12025              /games/big-league-sports/wii-14275098               Wii   \n",
              "12117              /games/big-league-sports/wii-14275098               Wii   \n",
              "14702                      /games/blur/xbox-360-14222096          Xbox 360   \n",
              "...                                                  ...               ...   \n",
              "443                           /games/wipeout-2097/ps-473       PlayStation   \n",
              "5604   /games/yu-gi-oh-world-championship-tournament-...  Game Boy Advance   \n",
              "5594   /games/yu-gi-oh-world-championship-tournament-...  Game Boy Advance   \n",
              "3887                           /games/zoocube/gba-479813  Game Boy Advance   \n",
              "3914                           /games/zoocube/gba-479813  Game Boy Advance   \n",
              "\n",
              "       score                genre editors_choice  release_year  release_month  \\\n",
              "6100     6.5           Platformer              N          2004             10   \n",
              "6211     6.5           Platformer              N          2004             10   \n",
              "12025    2.3  Sports, Compilation              N          2008             11   \n",
              "12117    2.3  Sports, Compilation              N          2008             11   \n",
              "14702    7.0               Racing              N          2010              5   \n",
              "...      ...                  ...            ...           ...            ...   \n",
              "443      9.0               Racing              Y          1996             11   \n",
              "5604     7.5         Card, Battle              N          2004              2   \n",
              "5594     7.5         Card, Battle              N          2004              2   \n",
              "3887     5.3               Puzzle              N          2002              6   \n",
              "3914     5.3               Puzzle              N          2002              6   \n",
              "\n",
              "       release_day release_date  \n",
              "6100             5   2004-10-05  \n",
              "6211             5   2004-10-05  \n",
              "12025           25   2008-11-25  \n",
              "12117           25   2008-11-25  \n",
              "14702           25   2010-05-25  \n",
              "...            ...          ...  \n",
              "443             26   1996-11-26  \n",
              "5604            13   2004-02-13  \n",
              "5594            13   2004-02-13  \n",
              "3887            11   2002-06-11  \n",
              "3914            11   2002-06-11  \n",
              "\n",
              "[96 rows x 12 columns]"
            ]
          },
          "execution_count": 10,
          "metadata": {},
          "output_type": "execute_result"
        }
      ],
      "source": [
        "# Find duplicate URLs and their number\n",
        "duplicated_urls = data[data['url'].duplicated(keep=False)].sort_values(by='url')\n",
        "duplicated_urls"
      ]
    },
    {
      "cell_type": "markdown",
      "metadata": {
        "id": "0p50k_G7IOe2"
      },
      "source": [
        "*We found 96 entries that have duplicate URLs. A closer look reveals that these entries are identical in content.*\n",
        "\n",
        "*To solve this problem, we will remove duplicates, leaving only one unique entry for each URL.*"
      ]
    },
    {
      "cell_type": "code",
      "execution_count": null,
      "metadata": {
        "colab": {
          "base_uri": "https://localhost:8080/"
        },
        "id": "rzbdHnJwINpB",
        "outputId": "0245f84d-ccb9-4208-8b18-f56e59f18e42"
      },
      "outputs": [
        {
          "data": {
            "text/plain": [
              "(18577, 12)"
            ]
          },
          "execution_count": 11,
          "metadata": {},
          "output_type": "execute_result"
        }
      ],
      "source": [
        "# Remove duplicates based on URL\n",
        "data = data.drop_duplicates(subset='url', keep='first')\n",
        "data.reset_index(drop=True, inplace=True)\n",
        "# Checking the size of the cleaned dataset\n",
        "data.shape"
      ]
    },
    {
      "cell_type": "markdown",
      "metadata": {
        "id": "72E2E8WlI6pj"
      },
      "source": [
        "*Duplicates were successfully removed. Our cleaned dataset now contains 18,577 records.*\n",
        "\n",
        "---\n"
      ]
    },
    {
      "cell_type": "markdown",
      "metadata": {
        "id": "rDDmpz_9J52b"
      },
      "source": [
        "* 2.1.6 Abnormal values\n",
        "\n",
        "Let's check the numeric columns for anomalous values."
      ]
    },
    {
      "cell_type": "code",
      "execution_count": null,
      "metadata": {
        "colab": {
          "base_uri": "https://localhost:8080/"
        },
        "id": "4eEnQH7FJJwt",
        "outputId": "776db2fe-3926-412c-9c9e-52757ddda254"
      },
      "outputs": [
        {
          "data": {
            "text/plain": [
              "(Empty DataFrame\n",
              " Columns: [Unnamed: 0, score_phrase, title, url, platform, score, genre, editors_choice, release_year, release_month, release_day, release_date]\n",
              " Index: [],\n",
              " Empty DataFrame\n",
              " Columns: [Unnamed: 0, score_phrase, title, url, platform, score, genre, editors_choice, release_year, release_month, release_day, release_date]\n",
              " Index: [],\n",
              " Empty DataFrame\n",
              " Columns: [Unnamed: 0, score_phrase, title, url, platform, score, genre, editors_choice, release_year, release_month, release_day, release_date]\n",
              " Index: [],\n",
              " Empty DataFrame\n",
              " Columns: [Unnamed: 0, score_phrase, title, url, platform, score, genre, editors_choice, release_year, release_month, release_day, release_date]\n",
              " Index: [])"
            ]
          },
          "execution_count": 12,
          "metadata": {},
          "output_type": "execute_result"
        }
      ],
      "source": [
        "# Rating column\n",
        "anomalous_scores = data[(data['score'] < 0) | (data['score'] > 10)]\n",
        "# Columns with release dates\n",
        "anomalous_years = data[(data['release_year'] < 1970) | (data['release_year'] > 2023)]\n",
        "anomalous_months = data[(data['release_month'] < 1) | (data['release_month'] > 12)]\n",
        "anomalous_days = data[(data['release_day'] < 1) | (data['release_day'] > 31)]\n",
        "anomalous_scores, anomalous_years, anomalous_months, anomalous_days"
      ]
    },
    {
      "cell_type": "markdown",
      "metadata": {
        "id": "8hXYpO6sOfW-"
      },
      "source": [
        "Based on the test results:\n",
        "\n",
        "1.   All game scores are within the acceptable range from 0 to 10.\n",
        "2.   All release dates are also correct:\n",
        "> *   Release years range from 1970 to current time\n",
        "> *   Release months range from 1 to 12.\n",
        "> *   Release days range from 1 to 31.\n",
        "*Based on the results obtained, we can conclude that there are no anomalous values in the numerical columns of this dataset.*\n",
        "\n",
        "\n",
        "---\n",
        "\n"
      ]
    },
    {
      "cell_type": "markdown",
      "metadata": {
        "id": "P2y90re9WUq8"
      },
      "source": [
        "*   2.1.7 Checking data distribution\n",
        "\n",
        "Let's build histograms for numeric columns to see the distribution of data and identify possible anomalies"
      ]
    },
    {
      "cell_type": "code",
      "execution_count": null,
      "metadata": {
        "colab": {
          "base_uri": "https://localhost:8080/",
          "height": 566
        },
        "id": "mw2pix_CWVFI",
        "outputId": "79fad34a-59c1-4559-d9e0-3b2dba40a7d1"
      },
      "outputs": [
        {
          "data": {
            "image/png": "[encoded data removed]",
            "text/plain": [
              "<Figure size 1400x600 with 1 Axes>"
            ]
          },
          "metadata": {},
          "output_type": "display_data"
        }
      ],
      "source": [
        "# Convert columns with year, month and day of release into one column with type datetime\n",
        "data['release_date'] = pd.to_datetime(data['release_year'].astype(str) + '-' +\n",
        "                                              data['release_month'].astype(str) + '-' +\n",
        "                                              data['release_day'].astype(str))\n",
        "# Checking the new column and its data type\n",
        "data[['release_year', 'release_month', 'release_day', 'release_date']].head(), data['release_date'].dtype\n",
        "# Plotting the distribution of release dates\n",
        "plt.figure(figsize=(14, 6))\n",
        "data['release_date'].hist(bins=50, color='skyblue', edgecolor='black')\n",
        "plt.title('Distribution of game release dates', fontsize=16)\n",
        "plt.ylabel('Number of games')\n",
        "plt.xlabel('Release date')\n",
        "plt.grid(False)\n",
        "plt.show()"
      ]
    },
    {
      "cell_type": "markdown",
      "metadata": {
        "id": "j6OOSY_XX4TL"
      },
      "source": [
        "Examining the graph of the distribution of game release dates, it is clear that the majority of games in the data set were released between 2000 and 2016. The number of game releases began to rise in the 90s and peaked in the 2000s. After 2010 there is a slight decrease.\n",
        "\n",
        "This distribution is consistent with gaming industry growth trends and technological development that began in the 90s and continued into the 2000s."
      ]
    },
    {
      "cell_type": "code",
      "execution_count": null,
      "metadata": {
        "colab": {
          "base_uri": "https://localhost:8080/",
          "height": 539
        },
        "id": "dJIehpxkYN0N",
        "outputId": "54e7dc8c-2c73-4452-f339-f6e3a0a6a5c3"
      },
      "outputs": [
        {
          "data": {
            "image/png": "[encoded data removed]",
            "text/plain": [
              "<Figure size 1500x600 with 2 Axes>"
            ]
          },
          "metadata": {},
          "output_type": "display_data"
        }
      ],
      "source": [
        "# Plot a histogram and boxplot for the 'score' column\n",
        "fig, axes = plt.subplots(nrows=1, ncols=2, figsize=(15, 6))\n",
        "# histogram\n",
        "data['score'].hist(ax=axes[0], bins=30, color='skyblue', edgecolor='black')\n",
        "axes[0].set_title('Distribution of game ratings')\n",
        "axes[0].set_xlabel('Rating')\n",
        "axes[0].set_ylabel('Number of games')\n",
        "axes[0].grid(False)\n",
        "# boxplot\n",
        "data.boxplot(column='score', ax=axes[1], vert=False, patch_artist=True, boxprops=dict(facecolor='skyblue'))\n",
        "axes[1].set_title('Boxplot for game ratings')\n",
        "axes[1].set_yticklabels([])\n",
        "plt.tight_layout()\n",
        "plt.show()"
      ]
    },
    {
      "cell_type": "markdown",
      "metadata": {
        "id": "WBeAQ7n-YulD"
      },
      "source": [
        "Let's analyze the rating charts:\n",
        "1.   Histogram:\n",
        "> The distribution of game scores shows some left-sided skew, meaning more games have above-average scores. Most games have scores ranging from 6 to 8. There are some games with a maximum score of 10, but also games with low scores.\n",
        "2.   Boxplot:\n",
        "> Most scores are in the range of 6 to 8, which is consistent with the histogram. Small outliers are also noticeable for very low scores, but they do not appear anomalous given that scores can range from 0 to 10.\n",
        "\n",
        "Based on these graphs, we can conclude that the data for the score column looks quite correct and does not contain obvious anomalies.\n",
        "\n",
        "---\n",
        "\n"
      ]
    },
    {
      "cell_type": "markdown",
      "metadata": {
        "id": "rQge46ARZWxW"
      },
      "source": [
        "* 2.1.8 Logical check\n",
        "\n",
        "Let's make sure that all the values in the dataset logically correspond to each other. For example, a game with a high rating cannot be rated as \"Bad\".\n",
        "\n"
      ]
    },
    {
      "cell_type": "code",
      "execution_count": null,
      "metadata": {
        "colab": {
          "base_uri": "https://localhost:8080/",
          "height": 421
        },
        "id": "Scmfln1VZ8OK",
        "outputId": "76ad53ff-ccd3-4f66-f992-faaa6e338299"
      },
      "outputs": [
        {
          "data": {
            "text/html": [
              "\n",
              "  <div id=\"df-9244bea5-58a6-41d4-8cb9-787bd04f11e8\" class=\"colab-df-container\">\n",
              "    <div>\n",
              "<style scoped>\n",
              "    .dataframe tbody tr th:only-of-type {\n",
              "        vertical-align: middle;\n",
              "    }\n",
              "\n",
              "    .dataframe tbody tr th {\n",
              "        vertical-align: top;\n",
              "    }\n",
              "\n",
              "    .dataframe thead th {\n",
              "        text-align: right;\n",
              "    }\n",
              "</style>\n",
              "<table border=\"1\" class=\"dataframe\">\n",
              "  <thead>\n",
              "    <tr style=\"text-align: right;\">\n",
              "      <th></th>\n",
              "      <th>min</th>\n",
              "      <th>max</th>\n",
              "    </tr>\n",
              "    <tr>\n",
              "      <th>score_phrase</th>\n",
              "      <th></th>\n",
              "      <th></th>\n",
              "    </tr>\n",
              "  </thead>\n",
              "  <tbody>\n",
              "    <tr>\n",
              "      <th>Amazing</th>\n",
              "      <td>9.0</td>\n",
              "      <td>9.9</td>\n",
              "    </tr>\n",
              "    <tr>\n",
              "      <th>Awful</th>\n",
              "      <td>3.0</td>\n",
              "      <td>3.9</td>\n",
              "    </tr>\n",
              "    <tr>\n",
              "      <th>Bad</th>\n",
              "      <td>4.0</td>\n",
              "      <td>4.9</td>\n",
              "    </tr>\n",
              "    <tr>\n",
              "      <th>Disaster</th>\n",
              "      <td>0.5</td>\n",
              "      <td>0.8</td>\n",
              "    </tr>\n",
              "    <tr>\n",
              "      <th>Good</th>\n",
              "      <td>7.0</td>\n",
              "      <td>7.9</td>\n",
              "    </tr>\n",
              "    <tr>\n",
              "      <th>Great</th>\n",
              "      <td>8.0</td>\n",
              "      <td>8.9</td>\n",
              "    </tr>\n",
              "    <tr>\n",
              "      <th>Masterpiece</th>\n",
              "      <td>10.0</td>\n",
              "      <td>10.0</td>\n",
              "    </tr>\n",
              "    <tr>\n",
              "      <th>Mediocre</th>\n",
              "      <td>5.0</td>\n",
              "      <td>5.9</td>\n",
              "    </tr>\n",
              "    <tr>\n",
              "      <th>Okay</th>\n",
              "      <td>6.0</td>\n",
              "      <td>6.9</td>\n",
              "    </tr>\n",
              "    <tr>\n",
              "      <th>Painful</th>\n",
              "      <td>2.0</td>\n",
              "      <td>2.9</td>\n",
              "    </tr>\n",
              "    <tr>\n",
              "      <th>Unbearable</th>\n",
              "      <td>1.0</td>\n",
              "      <td>1.9</td>\n",
              "    </tr>\n",
              "  </tbody>\n",
              "</table>\n",
              "</div>\n",
              "    <div class=\"colab-df-buttons\">\n",
              "\n",
              "  <div class=\"colab-df-container\">\n",
              "    <button class=\"colab-df-convert\" onclick=\"convertToInteractive('df-9244bea5-58a6-41d4-8cb9-787bd04f11e8')\"\n",
              "            title=\"Convert this dataframe to an interactive table.\"\n",
              "            style=\"display:none;\">\n",
              "\n",
              "  <svg xmlns=\"http://www.w3.org/2000/svg\" height=\"24px\" viewBox=\"0 -960 960 960\">\n",
              "    <path d=\"M120-120v-720h720v720H120Zm60-500h600v-160H180v160Zm220 220h160v-160H400v160Zm0 220h160v-160H400v160ZM180-400h160v-160H180v160Zm440 0h160v-160H620v160ZM180-180h160v-160H180v160Zm440 0h160v-160H620v160Z\"/>\n",
              "  </svg>\n",
              "    </button>\n",
              "\n",
              "  <style>\n",
              "    .colab-df-container {\n",
              "      display:flex;\n",
              "      gap: 12px;\n",
              "    }\n",
              "\n",
              "    .colab-df-convert {\n",
              "      background-color: #E8F0FE;\n",
              "      border: none;\n",
              "      border-radius: 50%;\n",
              "      cursor: pointer;\n",
              "      display: none;\n",
              "      fill: #1967D2;\n",
              "      height: 32px;\n",
              "      padding: 0 0 0 0;\n",
              "      width: 32px;\n",
              "    }\n",
              "\n",
              "    .colab-df-convert:hover {\n",
              "      background-color: #E2EBFA;\n",
              "      box-shadow: 0px 1px 2px rgba(60, 64, 67, 0.3), 0px 1px 3px 1px rgba(60, 64, 67, 0.15);\n",
              "      fill: #174EA6;\n",
              "    }\n",
              "\n",
              "    .colab-df-buttons div {\n",
              "      margin-bottom: 4px;\n",
              "    }\n",
              "\n",
              "    [theme=dark] .colab-df-convert {\n",
              "      background-color: #3B4455;\n",
              "      fill: #D2E3FC;\n",
              "    }\n",
              "\n",
              "    [theme=dark] .colab-df-convert:hover {\n",
              "      background-color: #434B5C;\n",
              "      box-shadow: 0px 1px 3px 1px rgba(0, 0, 0, 0.15);\n",
              "      filter: drop-shadow(0px 1px 2px rgba(0, 0, 0, 0.3));\n",
              "      fill: #FFFFFF;\n",
              "    }\n",
              "  </style>\n",
              "\n",
              "    <script>\n",
              "      const buttonEl =\n",
              "        document.querySelector('#df-9244bea5-58a6-41d4-8cb9-787bd04f11e8 button.colab-df-convert');\n",
              "      buttonEl.style.display =\n",
              "        google.colab.kernel.accessAllowed ? 'block' : 'none';\n",
              "\n",
              "      async function convertToInteractive(key) {\n",
              "        const element = document.querySelector('#df-9244bea5-58a6-41d4-8cb9-787bd04f11e8');\n",
              "        const dataTable =\n",
              "          await google.colab.kernel.invokeFunction('convertToInteractive',\n",
              "                                                    [key], {});\n",
              "        if (!dataTable) return;\n",
              "\n",
              "        const docLinkHtml = 'Like what you see? Visit the ' +\n",
              "          '<a target=\"_blank\" href=https://colab.research.google.com/notebooks/data_table.ipynb>data table notebook</a>'\n",
              "          + ' to learn more about interactive tables.';\n",
              "        element.innerHTML = '';\n",
              "        dataTable['output_type'] = 'display_data';\n",
              "        await google.colab.output.renderOutput(dataTable, element);\n",
              "        const docLink = document.createElement('div');\n",
              "        docLink.innerHTML = docLinkHtml;\n",
              "        element.appendChild(docLink);\n",
              "      }\n",
              "    </script>\n",
              "  </div>\n",
              "\n",
              "\n",
              "<div id=\"df-6943b0d2-af7e-42a8-b49f-5325f93ff456\">\n",
              "  <button class=\"colab-df-quickchart\" onclick=\"quickchart('df-6943b0d2-af7e-42a8-b49f-5325f93ff456')\"\n",
              "            title=\"Suggest charts.\"\n",
              "            style=\"display:none;\">\n",
              "\n",
              "<svg xmlns=\"http://www.w3.org/2000/svg\" height=\"24px\"viewBox=\"0 0 24 24\"\n",
              "     width=\"24px\">\n",
              "    <g>\n",
              "        <path d=\"M19 3H5c-1.1 0-2 .9-2 2v14c0 1.1.9 2 2 2h14c1.1 0 2-.9 2-2V5c0-1.1-.9-2-2-2zM9 17H7v-7h2v7zm4 0h-2V7h2v10zm4 0h-2v-4h2v4z\"/>\n",
              "    </g>\n",
              "</svg>\n",
              "  </button>\n",
              "\n",
              "<style>\n",
              "  .colab-df-quickchart {\n",
              "      --bg-color: #E8F0FE;\n",
              "      --fill-color: #1967D2;\n",
              "      --hover-bg-color: #E2EBFA;\n",
              "      --hover-fill-color: #174EA6;\n",
              "      --disabled-fill-color: #AAA;\n",
              "      --disabled-bg-color: #DDD;\n",
              "  }\n",
              "\n",
              "  [theme=dark] .colab-df-quickchart {\n",
              "      --bg-color: #3B4455;\n",
              "      --fill-color: #D2E3FC;\n",
              "      --hover-bg-color: #434B5C;\n",
              "      --hover-fill-color: #FFFFFF;\n",
              "      --disabled-bg-color: #3B4455;\n",
              "      --disabled-fill-color: #666;\n",
              "  }\n",
              "\n",
              "  .colab-df-quickchart {\n",
              "    background-color: var(--bg-color);\n",
              "    border: none;\n",
              "    border-radius: 50%;\n",
              "    cursor: pointer;\n",
              "    display: none;\n",
              "    fill: var(--fill-color);\n",
              "    height: 32px;\n",
              "    padding: 0;\n",
              "    width: 32px;\n",
              "  }\n",
              "\n",
              "  .colab-df-quickchart:hover {\n",
              "    background-color: var(--hover-bg-color);\n",
              "    box-shadow: 0 1px 2px rgba(60, 64, 67, 0.3), 0 1px 3px 1px rgba(60, 64, 67, 0.15);\n",
              "    fill: var(--button-hover-fill-color);\n",
              "  }\n",
              "\n",
              "  .colab-df-quickchart-complete:disabled,\n",
              "  .colab-df-quickchart-complete:disabled:hover {\n",
              "    background-color: var(--disabled-bg-color);\n",
              "    fill: var(--disabled-fill-color);\n",
              "    box-shadow: none;\n",
              "  }\n",
              "\n",
              "  .colab-df-spinner {\n",
              "    border: 2px solid var(--fill-color);\n",
              "    border-color: transparent;\n",
              "    border-bottom-color: var(--fill-color);\n",
              "    animation:\n",
              "      spin 1s steps(1) infinite;\n",
              "  }\n",
              "\n",
              "  @keyframes spin {\n",
              "    0% {\n",
              "      border-color: transparent;\n",
              "      border-bottom-color: var(--fill-color);\n",
              "      border-left-color: var(--fill-color);\n",
              "    }\n",
              "    20% {\n",
              "      border-color: transparent;\n",
              "      border-left-color: var(--fill-color);\n",
              "      border-top-color: var(--fill-color);\n",
              "    }\n",
              "    30% {\n",
              "      border-color: transparent;\n",
              "      border-left-color: var(--fill-color);\n",
              "      border-top-color: var(--fill-color);\n",
              "      border-right-color: var(--fill-color);\n",
              "    }\n",
              "    40% {\n",
              "      border-color: transparent;\n",
              "      border-right-color: var(--fill-color);\n",
              "      border-top-color: var(--fill-color);\n",
              "    }\n",
              "    60% {\n",
              "      border-color: transparent;\n",
              "      border-right-color: var(--fill-color);\n",
              "    }\n",
              "    80% {\n",
              "      border-color: transparent;\n",
              "      border-right-color: var(--fill-color);\n",
              "      border-bottom-color: var(--fill-color);\n",
              "    }\n",
              "    90% {\n",
              "      border-color: transparent;\n",
              "      border-bottom-color: var(--fill-color);\n",
              "    }\n",
              "  }\n",
              "</style>\n",
              "\n",
              "  <script>\n",
              "    async function quickchart(key) {\n",
              "      const quickchartButtonEl =\n",
              "        document.querySelector('#' + key + ' button');\n",
              "      quickchartButtonEl.disabled = true;  // To prevent multiple clicks.\n",
              "      quickchartButtonEl.classList.add('colab-df-spinner');\n",
              "      try {\n",
              "        const charts = await google.colab.kernel.invokeFunction(\n",
              "            'suggestCharts', [key], {});\n",
              "      } catch (error) {\n",
              "        console.error('Error during call to suggestCharts:', error);\n",
              "      }\n",
              "      quickchartButtonEl.classList.remove('colab-df-spinner');\n",
              "      quickchartButtonEl.classList.add('colab-df-quickchart-complete');\n",
              "    }\n",
              "    (() => {\n",
              "      let quickchartButtonEl =\n",
              "        document.querySelector('#df-6943b0d2-af7e-42a8-b49f-5325f93ff456 button');\n",
              "      quickchartButtonEl.style.display =\n",
              "        google.colab.kernel.accessAllowed ? 'block' : 'none';\n",
              "    })();\n",
              "  </script>\n",
              "</div>\n",
              "    </div>\n",
              "  </div>\n"
            ],
            "text/plain": [
              "               min   max\n",
              "score_phrase            \n",
              "Amazing        9.0   9.9\n",
              "Awful          3.0   3.9\n",
              "Bad            4.0   4.9\n",
              "Disaster       0.5   0.8\n",
              "Good           7.0   7.9\n",
              "Great          8.0   8.9\n",
              "Masterpiece   10.0  10.0\n",
              "Mediocre       5.0   5.9\n",
              "Okay           6.0   6.9\n",
              "Painful        2.0   2.9\n",
              "Unbearable     1.0   1.9"
            ]
          },
          "execution_count": 15,
          "metadata": {},
          "output_type": "execute_result"
        }
      ],
      "source": [
        "# Group data by 'score_phrase' and calculate minimum and maximum values for 'score'\n",
        "score_ranges = data.groupby('score_phrase')['score'].agg(['min', 'max'])\n",
        "score_ranges"
      ]
    },
    {
      "cell_type": "markdown",
      "metadata": {
        "id": "TMHniK-YaHB3"
      },
      "source": [
        "*Numeric ratings correspond to their rating phrases and there are no obvious inconsistencies.*\n",
        "\n",
        "---\n",
        "\n"
      ]
    },
    {
      "cell_type": "markdown",
      "metadata": {
        "id": "7p4ytcW5nFDs"
      },
      "source": [
        "## 3. Defining Research Questions\n",
        "\n"
      ]
    },
    {
      "cell_type": "markdown",
      "metadata": {
        "id": "Q-oiUoyBnPbA"
      },
      "source": [
        "*   Question №1: Predicting the success of a game based on its genre, platform and year of release.\n",
        "\n",
        "*Management task*\n",
        "> What factors most influence the success of the game?\n",
        "\n",
        "*Business Decision*\n",
        "> Identifying potentially successful combinations of genre, platform and release time to plan new projects.\n",
        "\n",
        "*Data*\n",
        "> Genre, platform, year of release, game rating.\n",
        "\n",
        "*Modeling method*\n",
        "> Decision tree/Random forest/Gradient boosting\n",
        "\n",
        "*Improved business operations*\n",
        "> Optimize resources and increase the likelihood of releasing a successful game.\n",
        "\n",
        "---\n",
        "\n",
        "*   Question №2: Analysis of the influence of the season on the success of the game.\n",
        "\n",
        "*Management Challenge*\n",
        "> At what time of year should new games be released to maximize their sales and popularity?\n",
        "\n",
        "*Business Solution*\n",
        "> Planning the release date of the game, taking into account seasonality.\n",
        "\n",
        "*Data*\n",
        "> Release month (season), game rating.\n",
        "\n",
        "*Modeling method*\n",
        "> Linear regression\n",
        "\n",
        "*Improved business operations*\n",
        "> Optimize release date to maximize sales.\n",
        "\n",
        "---\n",
        "\n",
        "*   Question №3: Classification of games into \"Editor's Choice\" and \"Not Editor's Choice\" based on their rating and genre.\n",
        "\n",
        "*Management challenge*\n",
        "> Which games are most likely to receive Editors' Choice status?\n",
        "\n",
        "*Business solution*\n",
        "> Targeted advertising campaign for potential hits.\n",
        "\n",
        "*Data*\n",
        "> Rating, genre.\n",
        "\n",
        "*Modeling method*\n",
        "> Logistic regression.\n",
        "\n",
        "*Improving business operations*\n",
        "> Focusing marketing efforts on potentially successful products.\n",
        "\n",
        "---\n",
        "\n",
        "*   Question №4: Recommend similar games based on their rating, genre and platform.\n",
        "\n",
        "*Management task*\n",
        "> Which games to recommend to users based on their previous preferences?\n",
        "\n",
        "*Business solution*\n",
        "> Increasing sales through personal recommendations.\n",
        "\n",
        "*Data*\n",
        "> Genre, platform, rating.\n",
        "\n",
        "*Modeling method*\n",
        "> Recommender systems.\n",
        "\n",
        "*Improve business operations*\n",
        "> Increase customer satisfaction and sales through personalized recommendations."
      ]
    },
    {
      "cell_type": "markdown",
      "metadata": {
        "id": "Ea0JH29Bd0yu"
      },
      "source": [
        "## 4. Pre-release Analysis"
      ]
    },
    {
      "cell_type": "markdown",
      "metadata": {
        "id": "xrCnPaefrety"
      },
      "source": [
        "## 4.1 Predicting the success of a game based on its genre, platform and year of release"
      ]
    },
    {
      "cell_type": "markdown",
      "metadata": {
        "id": "8tGBjtM8Dl5v"
      },
      "source": [
        "The categorical data must first be converted to numeric data using a dummy coding method. We need to do this for the \"genre\" and \"platform\" columns."
      ]
    },
    {
      "cell_type": "code",
      "execution_count": null,
      "metadata": {
        "id": "I2ExxGFc7S5l"
      },
      "outputs": [],
      "source": [
        "# Pre-processing, dummy coding\n",
        "data_task_1 = pd.get_dummies(data[['genre', 'platform', 'release_year', 'score']], drop_first=True)"
      ]
    },
    {
      "cell_type": "markdown",
      "metadata": {
        "id": "fycpKVeZEfe7"
      },
      "source": [
        "Let's start with data preparation."
      ]
    },
    {
      "cell_type": "code",
      "execution_count": null,
      "metadata": {
        "colab": {
          "base_uri": "https://localhost:8080/"
        },
        "id": "Az0OhBheEywR",
        "outputId": "be0a2d75-e473-4a53-fe28-1f54b1bad2bd"
      },
      "outputs": [
        {
          "data": {
            "text/plain": [
              "((13003, 170), (5574, 170))"
            ]
          },
          "execution_count": 17,
          "metadata": {},
          "output_type": "execute_result"
        }
      ],
      "source": [
        "# Pre-processing: Dummy Coding\n",
        "data_task_1 = pd.get_dummies(data[['genre', 'platform', 'release_year', 'score']], drop_first=True)\n",
        "# Define X and y\n",
        "y = data_task_1['score']\n",
        "X = data_task_1.drop('score', axis=1)\n",
        "# Create Test & Training Data\n",
        "X_train, X_test, y_train, y_test = train_test_split(X, y, test_size=0.3, random_state=1)\n",
        "# Scaling the data\n",
        "scaler = StandardScaler()\n",
        "X_train_scaled = scaler.fit_transform(X_train)\n",
        "X_test_scaled = scaler.transform(X_test)\n",
        "\n",
        "X_train_scaled.shape, X_test_scaled.shape"
      ]
    },
    {
      "cell_type": "markdown",
      "metadata": {
        "id": "ehbHiHZHD4TR"
      },
      "source": [
        "### Training and evaluation of the decision tree model"
      ]
    },
    {
      "cell_type": "code",
      "execution_count": null,
      "metadata": {
        "colab": {
          "base_uri": "https://localhost:8080/"
        },
        "id": "_sPnmpb5CiRY",
        "outputId": "130ddc12-44cb-451b-a158-a1d57d004015"
      },
      "outputs": [
        {
          "data": {
            "text/plain": [
              "1.670621061271678"
            ]
          },
          "execution_count": 18,
          "metadata": {},
          "output_type": "execute_result"
        }
      ],
      "source": [
        "# Instantiate a Decision Tree model\n",
        "tree_model = DecisionTreeRegressor(max_depth=5, random_state=1)\n",
        "# Fit model to training data\n",
        "tree_model.fit(X_train_scaled, y_train)\n",
        "# Predict on test data\n",
        "tree_preds = tree_model.predict(X_test_scaled)\n",
        "# Evaluate performance using RMSE\n",
        "tree_rmse = mean_squared_error(y_test, tree_preds, squared=False)\n",
        "tree_rmse"
      ]
    },
    {
      "cell_type": "markdown",
      "metadata": {
        "id": "6YQanu5mFJgM"
      },
      "source": [
        "### Training and evaluation of random forest model"
      ]
    },
    {
      "cell_type": "code",
      "execution_count": null,
      "metadata": {
        "colab": {
          "base_uri": "https://localhost:8080/"
        },
        "id": "E8qpH5iaClxB",
        "outputId": "42384c0e-81ed-4023-bfb9-b6ce56d5cce4"
      },
      "outputs": [
        {
          "data": {
            "text/plain": [
              "1.666104586426152"
            ]
          },
          "execution_count": 19,
          "metadata": {},
          "output_type": "execute_result"
        }
      ],
      "source": [
        "# Instantiate a Random Forest model\n",
        "forest_model = RandomForestRegressor(n_estimators=100, max_depth=5, random_state=1)\n",
        "# Fit model to training data\n",
        "forest_model.fit(X_train_scaled, y_train)\n",
        "# Predict on test data\n",
        "forest_preds = forest_model.predict(X_test_scaled)\n",
        "# Evaluate performance using RMSE\n",
        "forest_rmse = mean_squared_error(y_test, forest_preds, squared=False)\n",
        "forest_rmse"
      ]
    },
    {
      "cell_type": "markdown",
      "metadata": {
        "id": "eiU2b7wbFKD_"
      },
      "source": [
        "### Training and evaluation of the gradient boosting model"
      ]
    },
    {
      "cell_type": "code",
      "execution_count": null,
      "metadata": {
        "colab": {
          "base_uri": "https://localhost:8080/"
        },
        "id": "H_NyNahgCpU5",
        "outputId": "157f7cd5-687d-48df-a29b-8cb7963f2643"
      },
      "outputs": [
        {
          "data": {
            "text/plain": [
              "1.6310053211139994"
            ]
          },
          "execution_count": 20,
          "metadata": {},
          "output_type": "execute_result"
        }
      ],
      "source": [
        "# Instantiate a Gradient Boosting model\n",
        "boost_model = XGBRegressor(learning_rate=0.1, n_estimators=100, random_state=1)\n",
        "# Fit model to training data\n",
        "boost_model.fit(X_train_scaled, y_train)\n",
        "# Predict on test data\n",
        "boost_preds = boost_model.predict(X_test_scaled)\n",
        "# Evaluate performance using RMSE\n",
        "boost_rmse = mean_squared_error(y_test, boost_preds, squared=False)\n",
        "boost_rmse"
      ]
    },
    {
      "cell_type": "markdown",
      "metadata": {
        "id": "9rP-lAgkGKbL"
      },
      "source": [
        "Results:\n",
        "*   Decision tree: RMSE = 1.6763\n",
        "*   Random Forest: RMSE = 1.6662\n",
        "*   Gradient boost: RMSE = 1.6310\n",
        "\n",
        "---\n",
        "\n",
        "The gradient boosting model showed an RMSE value equal to 1.6310, this result is the best among all three models. This means that on average the created model is wrong by 1.6310 rating units when making predictions.\n",
        "\n",
        "It can be concluded that this model is most useful for predicting the success of a game based on its genre, platform and year of release."
      ]
    },
    {
      "cell_type": "markdown",
      "metadata": {
        "id": "Mf4jiiFMd0yw"
      },
      "source": [
        "## 4.2 Time of year influence on the success of the game."
      ]
    },
    {
      "cell_type": "markdown",
      "metadata": {
        "id": "9QmPDvcpd0yw"
      },
      "source": [
        "Сonvert the data"
      ]
    },
    {
      "cell_type": "code",
      "execution_count": null,
      "metadata": {
        "colab": {
          "base_uri": "https://localhost:8080/"
        },
        "id": "dDAN1sWtd0yw",
        "outputId": "2b7b9197-4dbd-45e6-c560-011cf46b26a4"
      },
      "outputs": [
        {
          "data": {
            "text/plain": [
              "Autumn    6647\n",
              "Summer    4006\n",
              "Spring    3969\n",
              "Winter    3955\n",
              "Name: season, dtype: int64"
            ]
          },
          "execution_count": 21,
          "metadata": {},
          "output_type": "execute_result"
        }
      ],
      "source": [
        "# Create a copy of the original dataset\n",
        "data_task_4 = data.copy()\n",
        "# Convert months to seasons\n",
        "def get_season(month):\n",
        "     if month in [12, 1, 2]:\n",
        "         return 'Winter'\n",
        "     elif month in [3, 4, 5]:\n",
        "         return 'Spring'\n",
        "     elif month in [6, 7, 8]:\n",
        "         return 'Summer'\n",
        "     else:\n",
        "         return 'Autumn'\n",
        "data_task_4['season'] = data_task_4['release_month'].apply(get_season)\n",
        "# Display the distribution of games by season\n",
        "season_distribution = data_task_4['season'].value_counts()\n",
        "season_distribution"
      ]
    },
    {
      "cell_type": "markdown",
      "metadata": {
        "id": "3FTymfjQd0yw"
      },
      "source": [
        "*Сan conclude that autumn is the most popular time of year for game releases.*"
      ]
    },
    {
      "cell_type": "markdown",
      "metadata": {
        "id": "UuG0r7Qod0yw"
      },
      "source": [
        "Let's analyze how a game's rating correlates with the time of year it was released. We will use linear regression for this, where rating will be the dependent variable and time of year will be the independent variable."
      ]
    },
    {
      "cell_type": "code",
      "execution_count": null,
      "metadata": {
        "colab": {
          "base_uri": "https://localhost:8080/",
          "height": 564
        },
        "id": "0Rns-uajd0yw",
        "outputId": "999cdb82-4d56-4a61-b3d9-e218531e91a0"
      },
      "outputs": [
        {
          "data": {
            "image/png": "[encoded data removed]",
            "text/plain": [
              "<Figure size 1000x600 with 1 Axes>"
            ]
          },
          "metadata": {},
          "output_type": "display_data"
        }
      ],
      "source": [
        "# Calculate the average rating of games for each season\n",
        "average_ratings_by_season = data_task_4.groupby('season')['score'].mean().sort_values()\n",
        "# Plot\n",
        "plt.figure(figsize=(10,6))\n",
        "average_ratings_by_season.plot(kind='bar', color=['blue', 'green', 'yellow', 'orange'])\n",
        "plt.title('Average Game Rating by Season')\n",
        "plt.xlabel('Season')\n",
        "plt.ylabel('Average Rating')\n",
        "plt.xticks(rotation=0)\n",
        "plt.show()"
      ]
    },
    {
      "cell_type": "markdown",
      "metadata": {
        "id": "JNlhNmcUd0yw"
      },
      "source": [
        "*Autumn is the most popular time of year for game releases, which is why it has the highest average ratings.*"
      ]
    },
    {
      "cell_type": "markdown",
      "metadata": {
        "id": "ytAClC0Pd0yw"
      },
      "source": [
        "Let's move on to linear regression. We need to convert the seasonal data into a numerical format for analysis. To do this, we use the one-hot encoding method, which creates a separate column for each season and assigns 1 or 0 to indicate the presence or absence of that season for each game."
      ]
    },
    {
      "cell_type": "code",
      "execution_count": null,
      "metadata": {
        "colab": {
          "base_uri": "https://localhost:8080/"
        },
        "id": "ePY4EycJd0yw",
        "outputId": "f5654729-3ec9-4d02-b6d0-982e8cbcede7"
      },
      "outputs": [
        {
          "name": "stdout",
          "output_type": "stream",
          "text": [
            "                            OLS Regression Results                            \n",
            "==============================================================================\n",
            "Dep. Variable:                  score   R-squared:                       0.004\n",
            "Model:                            OLS   Adj. R-squared:                  0.004\n",
            "Method:                 Least Squares   F-statistic:                     24.28\n",
            "Date:                Fri, 03 Nov 2023   Prob (F-statistic):           1.13e-15\n",
            "Time:                        18:39:27   Log-Likelihood:                -36307.\n",
            "No. Observations:               18577   AIC:                         7.262e+04\n",
            "Df Residuals:                   18573   BIC:                         7.265e+04\n",
            "Df Model:                           3                                         \n",
            "Covariance Type:            nonrobust                                         \n",
            "==============================================================================\n",
            "                 coef    std err          t      P>|t|      [0.025      0.975]\n",
            "------------------------------------------------------------------------------\n",
            "const          7.0624      0.021    337.021      0.000       7.021       7.103\n",
            "Spring        -0.1284      0.034     -3.747      0.000      -0.196      -0.061\n",
            "Summer        -0.1022      0.034     -2.992      0.003      -0.169      -0.035\n",
            "Winter        -0.2917      0.034     -8.503      0.000      -0.359      -0.224\n",
            "==============================================================================\n",
            "Omnibus:                     1760.669   Durbin-Watson:                   1.776\n",
            "Prob(Omnibus):                  0.000   Jarque-Bera (JB):             2300.211\n",
            "Skew:                          -0.850   Prob(JB):                         0.00\n",
            "Kurtosis:                       3.289   Cond. No.                         4.15\n",
            "==============================================================================\n",
            "\n",
            "Notes:\n",
            "[1] Standard Errors assume that the covariance matrix of the errors is correctly specified.\n"
          ]
        }
      ],
      "source": [
        "# Apply one-hot encoding to the 'season' column\n",
        "season_encoded = pd.get_dummies(data_task_4['season'], drop_first=True)\n",
        "# Add encoded columns to our dataset\n",
        "data_encoded = pd.concat([data_task_4, season_encoded], axis=1)\n",
        "# Preparing data for linear regression\n",
        "X = data_encoded[['Spring', 'Summer', 'Winter']]\n",
        "y = data_encoded['score']\n",
        "# Add a constant to X\n",
        "X = sm.add_constant(X)\n",
        "# Model creation and training\n",
        "model = sm.OLS(y, X).fit()\n",
        "# Output results\n",
        "print(model.summary())"
      ]
    },
    {
      "cell_type": "markdown",
      "metadata": {
        "id": "0Tdx8K14d0yx"
      },
      "source": [
        "Analysis of results:\n",
        "\n",
        "Сoefficients\n",
        "\n",
        "> Spring - coefficient of -0.1269 indicates that, on average, games released in the spring have 0.1269 points lower than games released in the fall.\n",
        "\n",
        "> Summer - games released in the summer have an average rating of 0.1016 points less than games released in the fall.\n",
        "\n",
        "> Winter - games released in winter have an average rating of 0.2916 points lower than games released in the fall.\n",
        "\n",
        "Conclusion\n",
        "> Season has a small effect on ratings, but the effect is statistically significant.\n",
        "\n",
        "> Games released in winter have the largest difference in ratings compared to games released in the fall.\n",
        "\n",
        "> R-squared is low, indicating that other factors contribute more to the game's rating\n",
        "\n",
        "---\n"
      ]
    },
    {
      "cell_type": "markdown",
      "metadata": {
        "id": "fL8D8E_Xd0yx"
      },
      "source": [
        "## 5. Post-release Analysis"
      ]
    },
    {
      "cell_type": "markdown",
      "metadata": {
        "id": "N74We9j4KZna"
      },
      "source": [
        "## 5.1 Classification of games into \"Editor's Choice\" and \"Not Editor's Choice\" based on their rating and genre."
      ]
    },
    {
      "cell_type": "markdown",
      "metadata": {
        "id": "zZpuV9Y7M10d"
      },
      "source": [
        "Defining a dataset to train the model"
      ]
    },
    {
      "cell_type": "code",
      "execution_count": null,
      "metadata": {
        "colab": {
          "base_uri": "https://localhost:8080/",
          "height": 204
        },
        "id": "DPscvyEgKV2M",
        "outputId": "2e1d3ca0-01ad-45bf-fe8d-7ec1f054d2b9"
      },
      "outputs": [
        {
          "data": {
            "text/html": [
              "\n",
              "  <div id=\"df-82edc0c0-0d9b-46c0-9d28-1e5d1ef1f9e0\" class=\"colab-df-container\">\n",
              "    <div>\n",
              "<style scoped>\n",
              "    .dataframe tbody tr th:only-of-type {\n",
              "        vertical-align: middle;\n",
              "    }\n",
              "\n",
              "    .dataframe tbody tr th {\n",
              "        vertical-align: top;\n",
              "    }\n",
              "\n",
              "    .dataframe thead th {\n",
              "        text-align: right;\n",
              "    }\n",
              "</style>\n",
              "<table border=\"1\" class=\"dataframe\">\n",
              "  <thead>\n",
              "    <tr style=\"text-align: right;\">\n",
              "      <th></th>\n",
              "      <th>score</th>\n",
              "      <th>genre</th>\n",
              "      <th>editors_choice</th>\n",
              "    </tr>\n",
              "  </thead>\n",
              "  <tbody>\n",
              "    <tr>\n",
              "      <th>0</th>\n",
              "      <td>9.0</td>\n",
              "      <td>Platformer</td>\n",
              "      <td>Y</td>\n",
              "    </tr>\n",
              "    <tr>\n",
              "      <th>1</th>\n",
              "      <td>9.0</td>\n",
              "      <td>Platformer</td>\n",
              "      <td>Y</td>\n",
              "    </tr>\n",
              "    <tr>\n",
              "      <th>2</th>\n",
              "      <td>8.5</td>\n",
              "      <td>Puzzle</td>\n",
              "      <td>N</td>\n",
              "    </tr>\n",
              "    <tr>\n",
              "      <th>3</th>\n",
              "      <td>8.5</td>\n",
              "      <td>Sports</td>\n",
              "      <td>N</td>\n",
              "    </tr>\n",
              "    <tr>\n",
              "      <th>4</th>\n",
              "      <td>8.5</td>\n",
              "      <td>Sports</td>\n",
              "      <td>N</td>\n",
              "    </tr>\n",
              "  </tbody>\n",
              "</table>\n",
              "</div>\n",
              "    <div class=\"colab-df-buttons\">\n",
              "\n",
              "  <div class=\"colab-df-container\">\n",
              "    <button class=\"colab-df-convert\" onclick=\"convertToInteractive('df-82edc0c0-0d9b-46c0-9d28-1e5d1ef1f9e0')\"\n",
              "            title=\"Convert this dataframe to an interactive table.\"\n",
              "            style=\"display:none;\">\n",
              "\n",
              "  <svg xmlns=\"http://www.w3.org/2000/svg\" height=\"24px\" viewBox=\"0 -960 960 960\">\n",
              "    <path d=\"M120-120v-720h720v720H120Zm60-500h600v-160H180v160Zm220 220h160v-160H400v160Zm0 220h160v-160H400v160ZM180-400h160v-160H180v160Zm440 0h160v-160H620v160ZM180-180h160v-160H180v160Zm440 0h160v-160H620v160Z\"/>\n",
              "  </svg>\n",
              "    </button>\n",
              "\n",
              "  <style>\n",
              "    .colab-df-container {\n",
              "      display:flex;\n",
              "      gap: 12px;\n",
              "    }\n",
              "\n",
              "    .colab-df-convert {\n",
              "      background-color: #E8F0FE;\n",
              "      border: none;\n",
              "      border-radius: 50%;\n",
              "      cursor: pointer;\n",
              "      display: none;\n",
              "      fill: #1967D2;\n",
              "      height: 32px;\n",
              "      padding: 0 0 0 0;\n",
              "      width: 32px;\n",
              "    }\n",
              "\n",
              "    .colab-df-convert:hover {\n",
              "      background-color: #E2EBFA;\n",
              "      box-shadow: 0px 1px 2px rgba(60, 64, 67, 0.3), 0px 1px 3px 1px rgba(60, 64, 67, 0.15);\n",
              "      fill: #174EA6;\n",
              "    }\n",
              "\n",
              "    .colab-df-buttons div {\n",
              "      margin-bottom: 4px;\n",
              "    }\n",
              "\n",
              "    [theme=dark] .colab-df-convert {\n",
              "      background-color: #3B4455;\n",
              "      fill: #D2E3FC;\n",
              "    }\n",
              "\n",
              "    [theme=dark] .colab-df-convert:hover {\n",
              "      background-color: #434B5C;\n",
              "      box-shadow: 0px 1px 3px 1px rgba(0, 0, 0, 0.15);\n",
              "      filter: drop-shadow(0px 1px 2px rgba(0, 0, 0, 0.3));\n",
              "      fill: #FFFFFF;\n",
              "    }\n",
              "  </style>\n",
              "\n",
              "    <script>\n",
              "      const buttonEl =\n",
              "        document.querySelector('#df-82edc0c0-0d9b-46c0-9d28-1e5d1ef1f9e0 button.colab-df-convert');\n",
              "      buttonEl.style.display =\n",
              "        google.colab.kernel.accessAllowed ? 'block' : 'none';\n",
              "\n",
              "      async function convertToInteractive(key) {\n",
              "        const element = document.querySelector('#df-82edc0c0-0d9b-46c0-9d28-1e5d1ef1f9e0');\n",
              "        const dataTable =\n",
              "          await google.colab.kernel.invokeFunction('convertToInteractive',\n",
              "                                                    [key], {});\n",
              "        if (!dataTable) return;\n",
              "\n",
              "        const docLinkHtml = 'Like what you see? Visit the ' +\n",
              "          '<a target=\"_blank\" href=https://colab.research.google.com/notebooks/data_table.ipynb>data table notebook</a>'\n",
              "          + ' to learn more about interactive tables.';\n",
              "        element.innerHTML = '';\n",
              "        dataTable['output_type'] = 'display_data';\n",
              "        await google.colab.output.renderOutput(dataTable, element);\n",
              "        const docLink = document.createElement('div');\n",
              "        docLink.innerHTML = docLinkHtml;\n",
              "        element.appendChild(docLink);\n",
              "      }\n",
              "    </script>\n",
              "  </div>\n",
              "\n",
              "\n",
              "<div id=\"df-eec059e3-6cdf-4b99-b2a5-7b55ce24856e\">\n",
              "  <button class=\"colab-df-quickchart\" onclick=\"quickchart('df-eec059e3-6cdf-4b99-b2a5-7b55ce24856e')\"\n",
              "            title=\"Suggest charts.\"\n",
              "            style=\"display:none;\">\n",
              "\n",
              "<svg xmlns=\"http://www.w3.org/2000/svg\" height=\"24px\"viewBox=\"0 0 24 24\"\n",
              "     width=\"24px\">\n",
              "    <g>\n",
              "        <path d=\"M19 3H5c-1.1 0-2 .9-2 2v14c0 1.1.9 2 2 2h14c1.1 0 2-.9 2-2V5c0-1.1-.9-2-2-2zM9 17H7v-7h2v7zm4 0h-2V7h2v10zm4 0h-2v-4h2v4z\"/>\n",
              "    </g>\n",
              "</svg>\n",
              "  </button>\n",
              "\n",
              "<style>\n",
              "  .colab-df-quickchart {\n",
              "      --bg-color: #E8F0FE;\n",
              "      --fill-color: #1967D2;\n",
              "      --hover-bg-color: #E2EBFA;\n",
              "      --hover-fill-color: #174EA6;\n",
              "      --disabled-fill-color: #AAA;\n",
              "      --disabled-bg-color: #DDD;\n",
              "  }\n",
              "\n",
              "  [theme=dark] .colab-df-quickchart {\n",
              "      --bg-color: #3B4455;\n",
              "      --fill-color: #D2E3FC;\n",
              "      --hover-bg-color: #434B5C;\n",
              "      --hover-fill-color: #FFFFFF;\n",
              "      --disabled-bg-color: #3B4455;\n",
              "      --disabled-fill-color: #666;\n",
              "  }\n",
              "\n",
              "  .colab-df-quickchart {\n",
              "    background-color: var(--bg-color);\n",
              "    border: none;\n",
              "    border-radius: 50%;\n",
              "    cursor: pointer;\n",
              "    display: none;\n",
              "    fill: var(--fill-color);\n",
              "    height: 32px;\n",
              "    padding: 0;\n",
              "    width: 32px;\n",
              "  }\n",
              "\n",
              "  .colab-df-quickchart:hover {\n",
              "    background-color: var(--hover-bg-color);\n",
              "    box-shadow: 0 1px 2px rgba(60, 64, 67, 0.3), 0 1px 3px 1px rgba(60, 64, 67, 0.15);\n",
              "    fill: var(--button-hover-fill-color);\n",
              "  }\n",
              "\n",
              "  .colab-df-quickchart-complete:disabled,\n",
              "  .colab-df-quickchart-complete:disabled:hover {\n",
              "    background-color: var(--disabled-bg-color);\n",
              "    fill: var(--disabled-fill-color);\n",
              "    box-shadow: none;\n",
              "  }\n",
              "\n",
              "  .colab-df-spinner {\n",
              "    border: 2px solid var(--fill-color);\n",
              "    border-color: transparent;\n",
              "    border-bottom-color: var(--fill-color);\n",
              "    animation:\n",
              "      spin 1s steps(1) infinite;\n",
              "  }\n",
              "\n",
              "  @keyframes spin {\n",
              "    0% {\n",
              "      border-color: transparent;\n",
              "      border-bottom-color: var(--fill-color);\n",
              "      border-left-color: var(--fill-color);\n",
              "    }\n",
              "    20% {\n",
              "      border-color: transparent;\n",
              "      border-left-color: var(--fill-color);\n",
              "      border-top-color: var(--fill-color);\n",
              "    }\n",
              "    30% {\n",
              "      border-color: transparent;\n",
              "      border-left-color: var(--fill-color);\n",
              "      border-top-color: var(--fill-color);\n",
              "      border-right-color: var(--fill-color);\n",
              "    }\n",
              "    40% {\n",
              "      border-color: transparent;\n",
              "      border-right-color: var(--fill-color);\n",
              "      border-top-color: var(--fill-color);\n",
              "    }\n",
              "    60% {\n",
              "      border-color: transparent;\n",
              "      border-right-color: var(--fill-color);\n",
              "    }\n",
              "    80% {\n",
              "      border-color: transparent;\n",
              "      border-right-color: var(--fill-color);\n",
              "      border-bottom-color: var(--fill-color);\n",
              "    }\n",
              "    90% {\n",
              "      border-color: transparent;\n",
              "      border-bottom-color: var(--fill-color);\n",
              "    }\n",
              "  }\n",
              "</style>\n",
              "\n",
              "  <script>\n",
              "    async function quickchart(key) {\n",
              "      const quickchartButtonEl =\n",
              "        document.querySelector('#' + key + ' button');\n",
              "      quickchartButtonEl.disabled = true;  // To prevent multiple clicks.\n",
              "      quickchartButtonEl.classList.add('colab-df-spinner');\n",
              "      try {\n",
              "        const charts = await google.colab.kernel.invokeFunction(\n",
              "            'suggestCharts', [key], {});\n",
              "      } catch (error) {\n",
              "        console.error('Error during call to suggestCharts:', error);\n",
              "      }\n",
              "      quickchartButtonEl.classList.remove('colab-df-spinner');\n",
              "      quickchartButtonEl.classList.add('colab-df-quickchart-complete');\n",
              "    }\n",
              "    (() => {\n",
              "      let quickchartButtonEl =\n",
              "        document.querySelector('#df-eec059e3-6cdf-4b99-b2a5-7b55ce24856e button');\n",
              "      quickchartButtonEl.style.display =\n",
              "        google.colab.kernel.accessAllowed ? 'block' : 'none';\n",
              "    })();\n",
              "  </script>\n",
              "</div>\n",
              "    </div>\n",
              "  </div>\n"
            ],
            "text/plain": [
              "   score       genre editors_choice\n",
              "0    9.0  Platformer              Y\n",
              "1    9.0  Platformer              Y\n",
              "2    8.5      Puzzle              N\n",
              "3    8.5      Sports              N\n",
              "4    8.5      Sports              N"
            ]
          },
          "execution_count": 24,
          "metadata": {},
          "output_type": "execute_result"
        }
      ],
      "source": [
        "# Select required columns\n",
        "subset_task_2 = data[['score', 'genre', 'editors_choice']]\n",
        "subset_task_2.head()"
      ]
    },
    {
      "cell_type": "markdown",
      "metadata": {
        "id": "LQvFJFN6NOVK"
      },
      "source": [
        "Data preprocessing.\n",
        "\n",
        "Let's start by converting the categorical variable \"genre\" into numeric values using the one-hot encoding method. Then we divide the data into training and test samples."
      ]
    },
    {
      "cell_type": "code",
      "execution_count": null,
      "metadata": {
        "colab": {
          "base_uri": "https://localhost:8080/"
        },
        "id": "9QNSWFEyNQRF",
        "outputId": "13ef368f-c138-40c9-d013-a9a995ec97ae"
      },
      "outputs": [
        {
          "data": {
            "text/plain": [
              "(       score  genre_Action, Adventure  genre_Action, Compilation  \\\n",
              " 12555    7.0                      0.0                        0.0   \n",
              " 13455    7.9                      0.0                        0.0   \n",
              " 9479     8.8                      0.0                        0.0   \n",
              " 7356     7.5                      1.0                        0.0   \n",
              " 15089   10.0                      0.0                        0.0   \n",
              " \n",
              "        genre_Action, Editor  genre_Action, Platformer  genre_Action, Puzzle  \\\n",
              " 12555                   0.0                       0.0                   0.0   \n",
              " 13455                   0.0                       0.0                   0.0   \n",
              " 9479                    0.0                       0.0                   0.0   \n",
              " 7356                    0.0                       0.0                   0.0   \n",
              " 15089                   0.0                       0.0                   0.0   \n",
              " \n",
              "        genre_Action, RPG  genre_Action, Simulation  genre_Action, Strategy  \\\n",
              " 12555                0.0                       0.0                     0.0   \n",
              " 13455                1.0                       0.0                     0.0   \n",
              " 9479                 0.0                       0.0                     0.0   \n",
              " 7356                 0.0                       0.0                     0.0   \n",
              " 15089                0.0                       0.0                     0.0   \n",
              " \n",
              "        genre_Adult, Card  ...  genre_Sports, Racing  genre_Sports, Simulation  \\\n",
              " 12555                0.0  ...                   0.0                       0.0   \n",
              " 13455                0.0  ...                   0.0                       0.0   \n",
              " 9479                 0.0  ...                   0.0                       0.0   \n",
              " 7356                 0.0  ...                   0.0                       0.0   \n",
              " 15089                0.0  ...                   0.0                       0.0   \n",
              " \n",
              "        genre_Strategy  genre_Strategy, Compilation  genre_Strategy, RPG  \\\n",
              " 12555             0.0                          0.0                  0.0   \n",
              " 13455             0.0                          0.0                  0.0   \n",
              " 9479              0.0                          0.0                  0.0   \n",
              " 7356              0.0                          0.0                  0.0   \n",
              " 15089             0.0                          0.0                  0.0   \n",
              " \n",
              "        genre_Strategy, Simulation  genre_Trivia  genre_Virtual Pet  \\\n",
              " 12555                         0.0           0.0                0.0   \n",
              " 13455                         0.0           0.0                0.0   \n",
              " 9479                          0.0           0.0                0.0   \n",
              " 7356                          0.0           0.0                0.0   \n",
              " 15089                         0.0           0.0                0.0   \n",
              " \n",
              "        genre_Wrestling  genre_Wrestling, Simulation  \n",
              " 12555              0.0                          0.0  \n",
              " 13455              0.0                          0.0  \n",
              " 9479               0.0                          0.0  \n",
              " 7356               0.0                          0.0  \n",
              " 15089              0.0                          0.0  \n",
              " \n",
              " [5 rows x 112 columns],\n",
              " 12555    0\n",
              " 13455    0\n",
              " 9479     1\n",
              " 7356     0\n",
              " 15089    1\n",
              " Name: editors_choice, dtype: int64)"
            ]
          },
          "execution_count": 25,
          "metadata": {},
          "output_type": "execute_result"
        }
      ],
      "source": [
        "# One-hot encoding for genre\n",
        "encoder = OneHotEncoder(sparse_output=False, drop='first')\n",
        "encoded_genre = encoder.fit_transform(subset_task_2[['genre']])\n",
        "encoded_genre_df = pd.DataFrame(encoded_genre, columns=encoder.get_feature_names_out(['genre']))\n",
        "# Merging with the main dataframe\n",
        "data_encoded = pd.concat([subset_task_2.reset_index(drop=True), encoded_genre_df], axis=1).drop('genre', axis=1)\n",
        "# Convert editors_choice column to binary format\n",
        "data_encoded['editors_choice'] = data_encoded['editors_choice'].map({'Y': 1, 'N': 0})\n",
        "# Divide into training and test set\n",
        "X = data_encoded.drop('editors_choice', axis=1)\n",
        "y = data_encoded['editors_choice']\n",
        "X_train, X_test, y_train, y_test = train_test_split(X, y, test_size=0.3, random_state=1)\n",
        "X_train.head(), y_train.head()"
      ]
    },
    {
      "cell_type": "markdown",
      "metadata": {
        "id": "e0O41KpjOk_d"
      },
      "source": [
        "*The data has been successfully processed and divided into training and test samples.*"
      ]
    },
    {
      "cell_type": "markdown",
      "metadata": {
        "id": "7QdzClP5Ovu0"
      },
      "source": [
        "Now let's move on to training logistic regression on this data."
      ]
    },
    {
      "cell_type": "code",
      "execution_count": null,
      "metadata": {
        "colab": {
          "base_uri": "https://localhost:8080/"
        },
        "id": "xGgRD_g6OMk6",
        "outputId": "be05ec0a-796b-4bde-e500-253182b57c71"
      },
      "outputs": [
        {
          "data": {
            "text/plain": [
              "0.9397201291711518"
            ]
          },
          "execution_count": 26,
          "metadata": {},
          "output_type": "execute_result"
        }
      ],
      "source": [
        "# Logistic regression training\n",
        "logreg = LogisticRegression(max_iter=1000)\n",
        "logreg.fit(X_train, y_train)\n",
        "# Prediction on test data\n",
        "y_pred = logreg.predict(X_test)\n",
        "# Model quality assessment\n",
        "accuracy = accuracy_score(y_test, y_pred)\n",
        "accuracy\n"
      ]
    },
    {
      "cell_type": "markdown",
      "metadata": {
        "id": "tdtCxqV3PWRP"
      },
      "source": [
        "*The logistic regression model showed an accuracy of approximately\n",
        "93.97% on the test sample. This means that the model correctly classified whether a game is an \"Editor's Choice\" or not, in 93.97% of cases on test data*\n",
        "\n"
      ]
    },
    {
      "cell_type": "markdown",
      "metadata": {
        "id": "7PUrgEmMXaj7"
      },
      "source": [
        "Let's generate a report on the classification model"
      ]
    },
    {
      "cell_type": "code",
      "execution_count": null,
      "metadata": {
        "colab": {
          "base_uri": "https://localhost:8080/"
        },
        "id": "SB8sZz04XMuU",
        "outputId": "f348637e-e403-4ca8-9c35-e053c5e5a230"
      },
      "outputs": [
        {
          "name": "stdout",
          "output_type": "stream",
          "text": [
            "              precision    recall  f1-score   support\n",
            "\n",
            "           0       0.96      0.97      0.96      4520\n",
            "           1       0.86      0.81      0.84      1054\n",
            "\n",
            "    accuracy                           0.94      5574\n",
            "   macro avg       0.91      0.89      0.90      5574\n",
            "weighted avg       0.94      0.94      0.94      5574\n",
            "\n"
          ]
        }
      ],
      "source": [
        "print(classification_report(y_test, y_pred))"
      ]
    },
    {
      "cell_type": "markdown",
      "metadata": {
        "id": "bCELFLkTXxT_"
      },
      "source": [
        "Evaluation of results:\n",
        "\n",
        "*   For class 0 (Not Editor's Choice):\n",
        "  > Precision: 0.96 - of all the games that the model predicted as \"Not Editor's Choice\", 96% actually are.\n",
        "\n",
        "  > Recall: 0.97 - the model successfully identified 97% of all real \"Not Editor's Choice\" games.\n",
        "\n",
        "  > F1-score: 0.96 - harmonic average between Precision and Recall for this class.\n",
        "*   For class 1 (Editor's Choice):\n",
        "  > Precision: 0.86 - of all the games that the model predicted as \"Editor's Choice\", 86% actually are.\n",
        "\n",
        "  > Recall: 0.81 - the model successfully identified 81% of all real \"Editor's Choice\" games.\n",
        "\n",
        "  > F1-score: 0.84 - harmonic average between Precision and Recall for this class.\n",
        "\n",
        "*The overall accuracy (Accuracy) is 0.94 or 94%, which means that the model correctly classified 94% of the games from the test set.*"
      ]
    },
    {
      "cell_type": "markdown",
      "metadata": {
        "id": "dNnIlLAaY-wj"
      },
      "source": [
        "Let's get the ROC-AUC value"
      ]
    },
    {
      "cell_type": "code",
      "execution_count": null,
      "metadata": {
        "colab": {
          "base_uri": "https://localhost:8080/"
        },
        "id": "b6d81rnKYnhw",
        "outputId": "e1d82606-b4b7-4866-e899-a80ea84c8458"
      },
      "outputs": [
        {
          "data": {
            "text/plain": [
              "0.8918979110342395"
            ]
          },
          "execution_count": 28,
          "metadata": {},
          "output_type": "execute_result"
        }
      ],
      "source": [
        "roc_auc = roc_auc_score(y_test, y_pred)\n",
        "roc_auc"
      ]
    },
    {
      "cell_type": "markdown",
      "metadata": {
        "id": "GmG5ucM0ZWYd"
      },
      "source": [
        "*The ROC-AUC value is 0.89, which is very good. This indicates that your model has a high ability to distinguish between the \"Editor's Choice\" and \"Not Editor's Choice\" classes.*"
      ]
    },
    {
      "cell_type": "markdown",
      "metadata": {
        "id": "X3t2GXtmacsk"
      },
      "source": [
        "Let's perform cross-validation"
      ]
    },
    {
      "cell_type": "code",
      "execution_count": null,
      "metadata": {
        "colab": {
          "base_uri": "https://localhost:8080/"
        },
        "id": "n4yx0kwtUFs4",
        "outputId": "3ec4648a-057e-4884-9f41-fd53f3d53159"
      },
      "outputs": [
        {
          "name": "stdout",
          "output_type": "stream",
          "text": [
            "Cross-validated accuracy scores: [0.92357374 0.94429494 0.9294751  0.93432032 0.91467026]\n",
            "Mean CV accuracy: 0.9292668711345359\n"
          ]
        }
      ],
      "source": [
        "scores = cross_val_score(logreg, X, y, cv=5, scoring='accuracy')\n",
        "print(f\"Cross-validated accuracy scores: {scores}\")\n",
        "print(f\"Mean CV accuracy: {scores.mean()}\")"
      ]
    },
    {
      "cell_type": "markdown",
      "metadata": {
        "id": "t9hwc6c4apSH"
      },
      "source": [
        "Evaluation of results:\n",
        "\n",
        "*   Cross-validated accuracy scores\n",
        "> Shows the accuracy of the model at each of the five splits. These values tell us how the model performs on different subsets of data. All five values range from ~0.9146 to ~0.9444, indicating stable and high model quality across different data subsets.\n",
        "*   Mean CV accuracy\n",
        ">  The average of these five ratings. In our case, this is equal to 0.929 or 92.94%. This is an aggregate measure of how well the model performs on average across all five splits.\n"
      ]
    },
    {
      "cell_type": "markdown",
      "metadata": {
        "id": "uGTKd-5DbBG_"
      },
      "source": [
        "Plot ROC Curve"
      ]
    },
    {
      "cell_type": "code",
      "execution_count": null,
      "metadata": {
        "colab": {
          "base_uri": "https://localhost:8080/",
          "height": 641
        },
        "id": "oUhxOVWKU7Ho",
        "outputId": "8fe4449b-71d2-4d81-be7b-c6833b5e3314"
      },
      "outputs": [
        {
          "data": {
            "image/png": "[encoded data removed]",
            "text/plain": [
              "<Figure size 1000x700 with 1 Axes>"
            ]
          },
          "metadata": {},
          "output_type": "display_data"
        }
      ],
      "source": [
        "# Predicting the probabilities\n",
        "y_test_prob = logreg.predict_proba(X_test)[:, 1]\n",
        "# Calculate ROC curve\n",
        "fpr, tpr, thresholds = roc_curve(y_test, y_test_prob)\n",
        "# Plot ROC curve\n",
        "plt.figure(figsize=(10,7))\n",
        "plt.plot(fpr, tpr, color='green', label=f'AUC = {roc_auc:.2f}')\n",
        "plt.plot([0, 1], [0, 1], color='gray', linestyle='--')\n",
        "plt.xlabel('False Positive Rate')\n",
        "plt.ylabel('True Positive Rate (Recall)')\n",
        "plt.title('Receiver Operating Characteristic Curve')\n",
        "plt.legend()\n",
        "plt.show()"
      ]
    },
    {
      "cell_type": "markdown",
      "metadata": {
        "id": "L-lNwecrbRQ1"
      },
      "source": [
        "*The ROC curve lies above the diagonal line, indicating good performance of the model. The AUC very close to 1. This indicates that the model created is of excellent quality.*\n",
        "\n",
        "---\n",
        "\n"
      ]
    },
    {
      "cell_type": "markdown",
      "metadata": {
        "id": "oXIolszpdPul"
      },
      "source": [
        "**The result is a model that can help the company predict which games, based on their rating and genre, are likely to earn Editors' Choice status. This can be a useful tool for planning development and identifying potential hits.**"
      ]
    },
    {
      "cell_type": "markdown",
      "metadata": {
        "id": "8yWdPBZ8d0yz"
      },
      "source": [
        "## 6. Increase Customer Satisfaction and Sales"
      ]
    },
    {
      "cell_type": "markdown",
      "metadata": {
        "id": "qe3aQ6K4cdp8"
      },
      "source": [
        "## 6.1 Recommend similar games based on their rating, genre and platform."
      ]
    },
    {
      "cell_type": "markdown",
      "metadata": {
        "id": "o1152V0jhQR0"
      },
      "source": [
        "Сonvert the data\n",
        "\n",
        "Let's create vector representations for each game based on its genre, platform and rating."
      ]
    },
    {
      "cell_type": "code",
      "execution_count": null,
      "metadata": {
        "colab": {
          "base_uri": "https://localhost:8080/",
          "height": 389
        },
        "id": "AU_lKqsnfSN7",
        "outputId": "f3662535-5323-4ba3-d8af-f43a379091fd"
      },
      "outputs": [
        {
          "data": {
            "text/html": [
              "\n",
              "  <div id=\"df-97549104-b779-482f-bc7f-081b6571e535\" class=\"colab-df-container\">\n",
              "    <div>\n",
              "<style scoped>\n",
              "    .dataframe tbody tr th:only-of-type {\n",
              "        vertical-align: middle;\n",
              "    }\n",
              "\n",
              "    .dataframe tbody tr th {\n",
              "        vertical-align: top;\n",
              "    }\n",
              "\n",
              "    .dataframe thead th {\n",
              "        text-align: right;\n",
              "    }\n",
              "</style>\n",
              "<table border=\"1\" class=\"dataframe\">\n",
              "  <thead>\n",
              "    <tr style=\"text-align: right;\">\n",
              "      <th></th>\n",
              "      <th>Unnamed: 0</th>\n",
              "      <th>score_phrase</th>\n",
              "      <th>title</th>\n",
              "      <th>url</th>\n",
              "      <th>platform</th>\n",
              "      <th>score</th>\n",
              "      <th>genre</th>\n",
              "      <th>editors_choice</th>\n",
              "      <th>release_year</th>\n",
              "      <th>release_month</th>\n",
              "      <th>...</th>\n",
              "      <th>platform_Windows Surface</th>\n",
              "      <th>platform_Wireless</th>\n",
              "      <th>platform_WonderSwan</th>\n",
              "      <th>platform_WonderSwan Color</th>\n",
              "      <th>platform_Xbox</th>\n",
              "      <th>platform_Xbox 360</th>\n",
              "      <th>platform_Xbox One</th>\n",
              "      <th>platform_iPad</th>\n",
              "      <th>platform_iPhone</th>\n",
              "      <th>platform_iPod</th>\n",
              "    </tr>\n",
              "  </thead>\n",
              "  <tbody>\n",
              "    <tr>\n",
              "      <th>0</th>\n",
              "      <td>0</td>\n",
              "      <td>Amazing</td>\n",
              "      <td>LittleBigPlanet PS Vita</td>\n",
              "      <td>/games/littlebigplanet-vita/vita-98907</td>\n",
              "      <td>PlayStation Vita</td>\n",
              "      <td>9.0</td>\n",
              "      <td>Platformer</td>\n",
              "      <td>Y</td>\n",
              "      <td>2012</td>\n",
              "      <td>9</td>\n",
              "      <td>...</td>\n",
              "      <td>0.0</td>\n",
              "      <td>0.0</td>\n",
              "      <td>0.0</td>\n",
              "      <td>0.0</td>\n",
              "      <td>0.0</td>\n",
              "      <td>0.0</td>\n",
              "      <td>0.0</td>\n",
              "      <td>0.0</td>\n",
              "      <td>0.0</td>\n",
              "      <td>0.0</td>\n",
              "    </tr>\n",
              "    <tr>\n",
              "      <th>1</th>\n",
              "      <td>1</td>\n",
              "      <td>Amazing</td>\n",
              "      <td>LittleBigPlanet PS Vita -- Marvel Super Hero E...</td>\n",
              "      <td>/games/littlebigplanet-ps-vita-marvel-super-he...</td>\n",
              "      <td>PlayStation Vita</td>\n",
              "      <td>9.0</td>\n",
              "      <td>Platformer</td>\n",
              "      <td>Y</td>\n",
              "      <td>2012</td>\n",
              "      <td>9</td>\n",
              "      <td>...</td>\n",
              "      <td>0.0</td>\n",
              "      <td>0.0</td>\n",
              "      <td>0.0</td>\n",
              "      <td>0.0</td>\n",
              "      <td>0.0</td>\n",
              "      <td>0.0</td>\n",
              "      <td>0.0</td>\n",
              "      <td>0.0</td>\n",
              "      <td>0.0</td>\n",
              "      <td>0.0</td>\n",
              "    </tr>\n",
              "    <tr>\n",
              "      <th>2</th>\n",
              "      <td>2</td>\n",
              "      <td>Great</td>\n",
              "      <td>Splice: Tree of Life</td>\n",
              "      <td>/games/splice/ipad-141070</td>\n",
              "      <td>iPad</td>\n",
              "      <td>8.5</td>\n",
              "      <td>Puzzle</td>\n",
              "      <td>N</td>\n",
              "      <td>2012</td>\n",
              "      <td>9</td>\n",
              "      <td>...</td>\n",
              "      <td>0.0</td>\n",
              "      <td>0.0</td>\n",
              "      <td>0.0</td>\n",
              "      <td>0.0</td>\n",
              "      <td>0.0</td>\n",
              "      <td>0.0</td>\n",
              "      <td>0.0</td>\n",
              "      <td>1.0</td>\n",
              "      <td>0.0</td>\n",
              "      <td>0.0</td>\n",
              "    </tr>\n",
              "    <tr>\n",
              "      <th>3</th>\n",
              "      <td>3</td>\n",
              "      <td>Great</td>\n",
              "      <td>NHL 13</td>\n",
              "      <td>/games/nhl-13/xbox-360-128182</td>\n",
              "      <td>Xbox 360</td>\n",
              "      <td>8.5</td>\n",
              "      <td>Sports</td>\n",
              "      <td>N</td>\n",
              "      <td>2012</td>\n",
              "      <td>9</td>\n",
              "      <td>...</td>\n",
              "      <td>0.0</td>\n",
              "      <td>0.0</td>\n",
              "      <td>0.0</td>\n",
              "      <td>0.0</td>\n",
              "      <td>0.0</td>\n",
              "      <td>1.0</td>\n",
              "      <td>0.0</td>\n",
              "      <td>0.0</td>\n",
              "      <td>0.0</td>\n",
              "      <td>0.0</td>\n",
              "    </tr>\n",
              "    <tr>\n",
              "      <th>4</th>\n",
              "      <td>4</td>\n",
              "      <td>Great</td>\n",
              "      <td>NHL 13</td>\n",
              "      <td>/games/nhl-13/ps3-128181</td>\n",
              "      <td>PlayStation 3</td>\n",
              "      <td>8.5</td>\n",
              "      <td>Sports</td>\n",
              "      <td>N</td>\n",
              "      <td>2012</td>\n",
              "      <td>9</td>\n",
              "      <td>...</td>\n",
              "      <td>0.0</td>\n",
              "      <td>0.0</td>\n",
              "      <td>0.0</td>\n",
              "      <td>0.0</td>\n",
              "      <td>0.0</td>\n",
              "      <td>0.0</td>\n",
              "      <td>0.0</td>\n",
              "      <td>0.0</td>\n",
              "      <td>0.0</td>\n",
              "      <td>0.0</td>\n",
              "    </tr>\n",
              "  </tbody>\n",
              "</table>\n",
              "<p>5 rows × 184 columns</p>\n",
              "</div>\n",
              "    <div class=\"colab-df-buttons\">\n",
              "\n",
              "  <div class=\"colab-df-container\">\n",
              "    <button class=\"colab-df-convert\" onclick=\"convertToInteractive('df-97549104-b779-482f-bc7f-081b6571e535')\"\n",
              "            title=\"Convert this dataframe to an interactive table.\"\n",
              "            style=\"display:none;\">\n",
              "\n",
              "  <svg xmlns=\"http://www.w3.org/2000/svg\" height=\"24px\" viewBox=\"0 -960 960 960\">\n",
              "    <path d=\"M120-120v-720h720v720H120Zm60-500h600v-160H180v160Zm220 220h160v-160H400v160Zm0 220h160v-160H400v160ZM180-400h160v-160H180v160Zm440 0h160v-160H620v160ZM180-180h160v-160H180v160Zm440 0h160v-160H620v160Z\"/>\n",
              "  </svg>\n",
              "    </button>\n",
              "\n",
              "  <style>\n",
              "    .colab-df-container {\n",
              "      display:flex;\n",
              "      gap: 12px;\n",
              "    }\n",
              "\n",
              "    .colab-df-convert {\n",
              "      background-color: #E8F0FE;\n",
              "      border: none;\n",
              "      border-radius: 50%;\n",
              "      cursor: pointer;\n",
              "      display: none;\n",
              "      fill: #1967D2;\n",
              "      height: 32px;\n",
              "      padding: 0 0 0 0;\n",
              "      width: 32px;\n",
              "    }\n",
              "\n",
              "    .colab-df-convert:hover {\n",
              "      background-color: #E2EBFA;\n",
              "      box-shadow: 0px 1px 2px rgba(60, 64, 67, 0.3), 0px 1px 3px 1px rgba(60, 64, 67, 0.15);\n",
              "      fill: #174EA6;\n",
              "    }\n",
              "\n",
              "    .colab-df-buttons div {\n",
              "      margin-bottom: 4px;\n",
              "    }\n",
              "\n",
              "    [theme=dark] .colab-df-convert {\n",
              "      background-color: #3B4455;\n",
              "      fill: #D2E3FC;\n",
              "    }\n",
              "\n",
              "    [theme=dark] .colab-df-convert:hover {\n",
              "      background-color: #434B5C;\n",
              "      box-shadow: 0px 1px 3px 1px rgba(0, 0, 0, 0.15);\n",
              "      filter: drop-shadow(0px 1px 2px rgba(0, 0, 0, 0.3));\n",
              "      fill: #FFFFFF;\n",
              "    }\n",
              "  </style>\n",
              "\n",
              "    <script>\n",
              "      const buttonEl =\n",
              "        document.querySelector('#df-97549104-b779-482f-bc7f-081b6571e535 button.colab-df-convert');\n",
              "      buttonEl.style.display =\n",
              "        google.colab.kernel.accessAllowed ? 'block' : 'none';\n",
              "\n",
              "      async function convertToInteractive(key) {\n",
              "        const element = document.querySelector('#df-97549104-b779-482f-bc7f-081b6571e535');\n",
              "        const dataTable =\n",
              "          await google.colab.kernel.invokeFunction('convertToInteractive',\n",
              "                                                    [key], {});\n",
              "        if (!dataTable) return;\n",
              "\n",
              "        const docLinkHtml = 'Like what you see? Visit the ' +\n",
              "          '<a target=\"_blank\" href=https://colab.research.google.com/notebooks/data_table.ipynb>data table notebook</a>'\n",
              "          + ' to learn more about interactive tables.';\n",
              "        element.innerHTML = '';\n",
              "        dataTable['output_type'] = 'display_data';\n",
              "        await google.colab.output.renderOutput(dataTable, element);\n",
              "        const docLink = document.createElement('div');\n",
              "        docLink.innerHTML = docLinkHtml;\n",
              "        element.appendChild(docLink);\n",
              "      }\n",
              "    </script>\n",
              "  </div>\n",
              "\n",
              "\n",
              "<div id=\"df-8596d4ec-8ee8-4bf7-a943-efd5fe0fc335\">\n",
              "  <button class=\"colab-df-quickchart\" onclick=\"quickchart('df-8596d4ec-8ee8-4bf7-a943-efd5fe0fc335')\"\n",
              "            title=\"Suggest charts.\"\n",
              "            style=\"display:none;\">\n",
              "\n",
              "<svg xmlns=\"http://www.w3.org/2000/svg\" height=\"24px\"viewBox=\"0 0 24 24\"\n",
              "     width=\"24px\">\n",
              "    <g>\n",
              "        <path d=\"M19 3H5c-1.1 0-2 .9-2 2v14c0 1.1.9 2 2 2h14c1.1 0 2-.9 2-2V5c0-1.1-.9-2-2-2zM9 17H7v-7h2v7zm4 0h-2V7h2v10zm4 0h-2v-4h2v4z\"/>\n",
              "    </g>\n",
              "</svg>\n",
              "  </button>\n",
              "\n",
              "<style>\n",
              "  .colab-df-quickchart {\n",
              "      --bg-color: #E8F0FE;\n",
              "      --fill-color: #1967D2;\n",
              "      --hover-bg-color: #E2EBFA;\n",
              "      --hover-fill-color: #174EA6;\n",
              "      --disabled-fill-color: #AAA;\n",
              "      --disabled-bg-color: #DDD;\n",
              "  }\n",
              "\n",
              "  [theme=dark] .colab-df-quickchart {\n",
              "      --bg-color: #3B4455;\n",
              "      --fill-color: #D2E3FC;\n",
              "      --hover-bg-color: #434B5C;\n",
              "      --hover-fill-color: #FFFFFF;\n",
              "      --disabled-bg-color: #3B4455;\n",
              "      --disabled-fill-color: #666;\n",
              "  }\n",
              "\n",
              "  .colab-df-quickchart {\n",
              "    background-color: var(--bg-color);\n",
              "    border: none;\n",
              "    border-radius: 50%;\n",
              "    cursor: pointer;\n",
              "    display: none;\n",
              "    fill: var(--fill-color);\n",
              "    height: 32px;\n",
              "    padding: 0;\n",
              "    width: 32px;\n",
              "  }\n",
              "\n",
              "  .colab-df-quickchart:hover {\n",
              "    background-color: var(--hover-bg-color);\n",
              "    box-shadow: 0 1px 2px rgba(60, 64, 67, 0.3), 0 1px 3px 1px rgba(60, 64, 67, 0.15);\n",
              "    fill: var(--button-hover-fill-color);\n",
              "  }\n",
              "\n",
              "  .colab-df-quickchart-complete:disabled,\n",
              "  .colab-df-quickchart-complete:disabled:hover {\n",
              "    background-color: var(--disabled-bg-color);\n",
              "    fill: var(--disabled-fill-color);\n",
              "    box-shadow: none;\n",
              "  }\n",
              "\n",
              "  .colab-df-spinner {\n",
              "    border: 2px solid var(--fill-color);\n",
              "    border-color: transparent;\n",
              "    border-bottom-color: var(--fill-color);\n",
              "    animation:\n",
              "      spin 1s steps(1) infinite;\n",
              "  }\n",
              "\n",
              "  @keyframes spin {\n",
              "    0% {\n",
              "      border-color: transparent;\n",
              "      border-bottom-color: var(--fill-color);\n",
              "      border-left-color: var(--fill-color);\n",
              "    }\n",
              "    20% {\n",
              "      border-color: transparent;\n",
              "      border-left-color: var(--fill-color);\n",
              "      border-top-color: var(--fill-color);\n",
              "    }\n",
              "    30% {\n",
              "      border-color: transparent;\n",
              "      border-left-color: var(--fill-color);\n",
              "      border-top-color: var(--fill-color);\n",
              "      border-right-color: var(--fill-color);\n",
              "    }\n",
              "    40% {\n",
              "      border-color: transparent;\n",
              "      border-right-color: var(--fill-color);\n",
              "      border-top-color: var(--fill-color);\n",
              "    }\n",
              "    60% {\n",
              "      border-color: transparent;\n",
              "      border-right-color: var(--fill-color);\n",
              "    }\n",
              "    80% {\n",
              "      border-color: transparent;\n",
              "      border-right-color: var(--fill-color);\n",
              "      border-bottom-color: var(--fill-color);\n",
              "    }\n",
              "    90% {\n",
              "      border-color: transparent;\n",
              "      border-bottom-color: var(--fill-color);\n",
              "    }\n",
              "  }\n",
              "</style>\n",
              "\n",
              "  <script>\n",
              "    async function quickchart(key) {\n",
              "      const quickchartButtonEl =\n",
              "        document.querySelector('#' + key + ' button');\n",
              "      quickchartButtonEl.disabled = true;  // To prevent multiple clicks.\n",
              "      quickchartButtonEl.classList.add('colab-df-spinner');\n",
              "      try {\n",
              "        const charts = await google.colab.kernel.invokeFunction(\n",
              "            'suggestCharts', [key], {});\n",
              "      } catch (error) {\n",
              "        console.error('Error during call to suggestCharts:', error);\n",
              "      }\n",
              "      quickchartButtonEl.classList.remove('colab-df-spinner');\n",
              "      quickchartButtonEl.classList.add('colab-df-quickchart-complete');\n",
              "    }\n",
              "    (() => {\n",
              "      let quickchartButtonEl =\n",
              "        document.querySelector('#df-8596d4ec-8ee8-4bf7-a943-efd5fe0fc335 button');\n",
              "      quickchartButtonEl.style.display =\n",
              "        google.colab.kernel.accessAllowed ? 'block' : 'none';\n",
              "    })();\n",
              "  </script>\n",
              "</div>\n",
              "    </div>\n",
              "  </div>\n"
            ],
            "text/plain": [
              "   Unnamed: 0 score_phrase                                              title  \\\n",
              "0           0      Amazing                            LittleBigPlanet PS Vita   \n",
              "1           1      Amazing  LittleBigPlanet PS Vita -- Marvel Super Hero E...   \n",
              "2           2        Great                               Splice: Tree of Life   \n",
              "3           3        Great                                             NHL 13   \n",
              "4           4        Great                                             NHL 13   \n",
              "\n",
              "                                                 url          platform  score  \\\n",
              "0             /games/littlebigplanet-vita/vita-98907  PlayStation Vita    9.0   \n",
              "1  /games/littlebigplanet-ps-vita-marvel-super-he...  PlayStation Vita    9.0   \n",
              "2                          /games/splice/ipad-141070              iPad    8.5   \n",
              "3                      /games/nhl-13/xbox-360-128182          Xbox 360    8.5   \n",
              "4                           /games/nhl-13/ps3-128181     PlayStation 3    8.5   \n",
              "\n",
              "        genre editors_choice  release_year  release_month  ...  \\\n",
              "0  Platformer              Y          2012              9  ...   \n",
              "1  Platformer              Y          2012              9  ...   \n",
              "2      Puzzle              N          2012              9  ...   \n",
              "3      Sports              N          2012              9  ...   \n",
              "4      Sports              N          2012              9  ...   \n",
              "\n",
              "   platform_Windows Surface platform_Wireless  platform_WonderSwan  \\\n",
              "0                       0.0               0.0                  0.0   \n",
              "1                       0.0               0.0                  0.0   \n",
              "2                       0.0               0.0                  0.0   \n",
              "3                       0.0               0.0                  0.0   \n",
              "4                       0.0               0.0                  0.0   \n",
              "\n",
              "   platform_WonderSwan Color  platform_Xbox  platform_Xbox 360  \\\n",
              "0                        0.0            0.0                0.0   \n",
              "1                        0.0            0.0                0.0   \n",
              "2                        0.0            0.0                0.0   \n",
              "3                        0.0            0.0                1.0   \n",
              "4                        0.0            0.0                0.0   \n",
              "\n",
              "   platform_Xbox One  platform_iPad  platform_iPhone  platform_iPod  \n",
              "0                0.0            0.0              0.0            0.0  \n",
              "1                0.0            0.0              0.0            0.0  \n",
              "2                0.0            1.0              0.0            0.0  \n",
              "3                0.0            0.0              0.0            0.0  \n",
              "4                0.0            0.0              0.0            0.0  \n",
              "\n",
              "[5 rows x 184 columns]"
            ]
          },
          "execution_count": 31,
          "metadata": {},
          "output_type": "execute_result"
        }
      ],
      "source": [
        "# Create a copy of the original dataset\n",
        "data_task_3 = data.copy()\n",
        "# One-hot encoding for genre and platform\n",
        "encoder = OneHotEncoder(sparse_output=False)\n",
        "encoded_features = encoder.fit_transform(data_task_3[['genre', 'platform']])\n",
        "encoded_df = pd.DataFrame(encoded_features, columns=encoder.get_feature_names_out(['genre', 'platform']))\n",
        "# Rating normalization\n",
        "scaler = MinMaxScaler()\n",
        "data_task_3['normalized_score'] = scaler.fit_transform(data_task_3[['score']])\n",
        "# Data merging\n",
        "final_data = pd.concat([data_task_3, encoded_df], axis=1)\n",
        "final_data.head()"
      ]
    },
    {
      "cell_type": "markdown",
      "metadata": {
        "id": "a9Oq8r8Lgpyc"
      },
      "source": [
        "Calculation of cosine similarity between games:"
      ]
    },
    {
      "cell_type": "code",
      "execution_count": null,
      "metadata": {
        "id": "YcmBS2zCgsDo"
      },
      "outputs": [],
      "source": [
        "# Extract the features for the cosine similarity\n",
        "features = final_data.iloc[:, -encoded_df.shape[1]:]\n",
        "features['normalized_score'] = final_data['normalized_score']\n",
        "# Increase the weight of the platform features\n",
        "platform_columns = [col for col in features.columns if \"platform_\" in col]\n",
        "features[platform_columns] = features[platform_columns] * 2"
      ]
    },
    {
      "cell_type": "markdown",
      "metadata": {
        "id": "zrX5DocIhqck"
      },
      "source": [
        "Creating a Recommendation Function"
      ]
    },
    {
      "cell_type": "code",
      "execution_count": null,
      "metadata": {
        "colab": {
          "base_uri": "https://localhost:8080/"
        },
        "id": "lkcl5PbihrR9",
        "outputId": "b2ddbc55-25a0-43f2-fe12-0b13fb63f5a5"
      },
      "outputs": [
        {
          "data": {
            "text/plain": [
              "(['LittleBigPlanet PS Vita -- Marvel Super Hero Edition',\n",
              "  'Sound Shapes',\n",
              "  'Rayman Origins',\n",
              "  'Tales from Space: Mutant Blobs Attack',\n",
              "  'Stealth Inc.: A Clone in the Dark'],\n",
              " ['Ninjatown: Trees of Doom',\n",
              "  'Batman: Arkham City Lockdown',\n",
              "  'Zombie Parkour Runner',\n",
              "  'Sprinkle',\n",
              "  'The Last Rocket'])"
            ]
          },
          "execution_count": 33,
          "metadata": {},
          "output_type": "execute_result"
        }
      ],
      "source": [
        "def recommend_games(game_title, platform, num_recommendations=5):\n",
        "    # Check if the game title exists in the dataset\n",
        "    if game_title not in final_data['title'].values:\n",
        "        return []\n",
        "    # Filter games based on the given platform\n",
        "    subset_data = final_data[final_data['platform'] == platform]\n",
        "    # If the subset is empty, return an empty list\n",
        "    if subset_data.shape[0] == 0:\n",
        "        return []\n",
        "    # Extract the features for the subset\n",
        "    subset_features = subset_data[features.columns]\n",
        "    # Calculate the cosine similarity with the specified game\n",
        "    game_features = final_data[final_data['title'] == game_title][features.columns].values\n",
        "    similarity_scores = cosine_similarity(game_features, subset_features)[0]\n",
        "    # Get the indices of the games sorted by their similarity score\n",
        "    sorted_game_indices = np.argsort(similarity_scores)[::-1]\n",
        "    # Get the top N similar games' titles\n",
        "    recommended_games = subset_data.iloc[sorted_game_indices[:num_recommendations + 1]]['title'].tolist()\n",
        "    # Remove the input game from the recommendations\n",
        "    recommended_games = [game for game in recommended_games if game != game_title]\n",
        "    return recommended_games[:num_recommendations]\n",
        "\n",
        "# Test the recommendation function\n",
        "r_game_1 = \"LittleBigPlanet PS Vita\"\n",
        "platform_1 = \"PlayStation Vita\"\n",
        "recommendations_1 = recommend_games(r_game_1, platform_1)\n",
        "\n",
        "r_game_2 = \"Wild Blood\"\n",
        "platform_2 = \"iPhone\"\n",
        "recommendations_2 = recommend_games(r_game_2, platform_2)\n",
        "\n",
        "recommendations_1, recommendations_2"
      ]
    },
    {
      "cell_type": "markdown",
      "metadata": {
        "id": "Dm3WcyoyiclX"
      },
      "source": [
        "As a result, we received a model that can generate lists of recommendations based on the specified game.\n",
        "\n",
        "---"
      ]
    },
    {
      "cell_type": "markdown",
      "metadata": {
        "id": "3A0Puyqed0y0"
      },
      "source": [
        "## Final"
      ]
    },
    {
      "cell_type": "markdown",
      "metadata": {
        "id": "sQbZZtg8Q02B"
      },
      "source": [
        "## Conclusion of the Work\n",
        "\n",
        "\n",
        "An investigation was conducted to identify the key success factors for projects in the gaming industry.\n",
        "        \n",
        "The main focus was on predicting the success of a game using data such as genre, platform, release year, and game rating.\n",
        "Decision tree methods, random forest, and gradient boosting were employed for this.\n",
        "This will help optimize resource allocation and increase the likelihood of releasing a successful game.\n",
        "\n",
        "An analysis was also conducted on the influence of the release season on the game's success.\n",
        "Linear regression was used to study the relationship between the game's rating and its release month.\n",
        "This will provide an opportunity to optimize the game's release date to maximize sales.\n",
        "\n",
        "The study addressed the issue of assigning games to the \"Editor's Choice\" category based on their rating and genre using logistic regression.\n",
        "This analysis will allow you to focus your marketing efforts on games with the greatest potential for success.\n",
        "\n",
        "The aspect of game recommendations was considered being the integral and the interactive part of the work. Based on the game's genre, platform, and rating, methods were developed to provide personalized recommendations, which, in turn, can enhance customer satisfaction and boost sales.\n",
        "\n",
        "This research aims to gain a deep understanding of the gaming industry and identify methods for optimizing business processes, increasing sales, and enhancing customer satisfaction.\n"
      ]
    }
  ],
  "metadata": {
    "colab": {
      "provenance": []
    },
    "kernelspec": {
      "display_name": "Python 3",
      "name": "python3"
    },
    "language_info": {
      "codemirror_mode": {
        "name": "ipython",
        "version": 3
      },
      "file_extension": ".py",
      "mimetype": "text/x-python",
      "name": "python",
      "nbconvert_exporter": "python",
      "pygments_lexer": "ipython3",
      "version": "3.9.13"
    }
  },
  "nbformat": 4,
  "nbformat_minor": 0
}
